{
  "nbformat": 4,
  "nbformat_minor": 0,
  "metadata": {
    "colab": {
      "provenance": [],
      "gpuType": "T4",
      "authorship_tag": "ABX9TyMdGJ3Fje9We/ezvOHUBwHL",
      "include_colab_link": true
    },
    "kernelspec": {
      "name": "python3",
      "display_name": "Python 3"
    },
    "language_info": {
      "name": "python"
    },
    "accelerator": "GPU"
  },
  "cells": [
    {
      "cell_type": "markdown",
      "metadata": {
        "id": "view-in-github",
        "colab_type": "text"
      },
      "source": [
        "<a href=\"https://colab.research.google.com/github/DiegoMeseguer/pytorch-tutorial/blob/main/00_pytorch_fundamentals.ipynb\" target=\"_parent\"><img src=\"https://colab.research.google.com/assets/colab-badge.svg\" alt=\"Open In Colab\"/></a>"
      ]
    },
    {
      "cell_type": "markdown",
      "source": [
        "#00. Pytorch Fundamentals\n",
        "Resource Notebook: https://www.learnpytorch.io/00_pytorch_fundamentals/ \\\n",
        "If you have questions: https://github.com/mrdbourke/pytorch-deep-learning/discussions"
      ],
      "metadata": {
        "id": "M5v9cvSlc6oV"
      }
    },
    {
      "cell_type": "code",
      "execution_count": null,
      "metadata": {
        "colab": {
          "base_uri": "https://localhost:8080/"
        },
        "id": "zClVZeAwcqWN",
        "outputId": "82764169-edf8-4791-e0bd-3df2bcfefa43"
      },
      "outputs": [
        {
          "output_type": "stream",
          "name": "stdout",
          "text": [
            "2.2.1+cu121\n"
          ]
        }
      ],
      "source": [
        "import torch\n",
        "import pandas as pd\n",
        "import numpy as np\n",
        "import matplotlib.pyplot as plt\n",
        "print(torch.__version__)"
      ]
    },
    {
      "cell_type": "code",
      "source": [
        "!ls -la\n",
        "!pwd\n",
        "!echo \"hello world\"\n",
        "!nvidia-smi\n"
      ],
      "metadata": {
        "colab": {
          "base_uri": "https://localhost:8080/"
        },
        "id": "WneuMi2gv8ts",
        "outputId": "d569cec5-6a69-4122-dd1e-7853bbfbc581"
      },
      "execution_count": null,
      "outputs": [
        {
          "output_type": "stream",
          "name": "stdout",
          "text": [
            "total 16\n",
            "drwxr-xr-x 1 root root 4096 May  9 13:24 .\n",
            "drwxr-xr-x 1 root root 4096 May 11 20:19 ..\n",
            "drwxr-xr-x 4 root root 4096 May  9 13:24 .config\n",
            "drwxr-xr-x 1 root root 4096 May  9 13:24 sample_data\n",
            "/content\n",
            "hello world\n",
            "Sat May 11 20:22:06 2024       \n",
            "+---------------------------------------------------------------------------------------+\n",
            "| NVIDIA-SMI 535.104.05             Driver Version: 535.104.05   CUDA Version: 12.2     |\n",
            "|-----------------------------------------+----------------------+----------------------+\n",
            "| GPU  Name                 Persistence-M | Bus-Id        Disp.A | Volatile Uncorr. ECC |\n",
            "| Fan  Temp   Perf          Pwr:Usage/Cap |         Memory-Usage | GPU-Util  Compute M. |\n",
            "|                                         |                      |               MIG M. |\n",
            "|=========================================+======================+======================|\n",
            "|   0  Tesla T4                       Off | 00000000:00:04.0 Off |                    0 |\n",
            "| N/A   47C    P8               9W /  70W |      0MiB / 15360MiB |      0%      Default |\n",
            "|                                         |                      |                  N/A |\n",
            "+-----------------------------------------+----------------------+----------------------+\n",
            "                                                                                         \n",
            "+---------------------------------------------------------------------------------------+\n",
            "| Processes:                                                                            |\n",
            "|  GPU   GI   CI        PID   Type   Process name                            GPU Memory |\n",
            "|        ID   ID                                                             Usage      |\n",
            "|=======================================================================================|\n",
            "|  No running processes found                                                           |\n",
            "+---------------------------------------------------------------------------------------+\n"
          ]
        }
      ]
    },
    {
      "cell_type": "markdown",
      "source": [
        "# Introduction to Tensors\n",
        "## Creating Tensors\n",
        "\n",
        "Pytorch tensor are created using `torch.Tensor()` = https://pytorch.org/docs/stable/tensors.html"
      ],
      "metadata": {
        "id": "CLw4acVg2WZR"
      }
    },
    {
      "cell_type": "code",
      "source": [
        "# Scalar\n",
        "scalar = torch.tensor(7)\n",
        "scalar\n",
        "print(type(scalar))\n",
        "print(isinstance(scalar, torch.Tensor))\n",
        "print(isinstance(scalar, dict))\n",
        "\n"
      ],
      "metadata": {
        "colab": {
          "base_uri": "https://localhost:8080/"
        },
        "id": "_KhU3hQNlcwc",
        "outputId": "6f8cd8c2-a1be-4141-80b4-df35940de960"
      },
      "execution_count": null,
      "outputs": [
        {
          "output_type": "stream",
          "name": "stdout",
          "text": [
            "<class 'torch.Tensor'>\n",
            "True\n",
            "False\n"
          ]
        }
      ]
    },
    {
      "cell_type": "code",
      "source": [
        "scalar.ndim, scalar.shape"
      ],
      "metadata": {
        "colab": {
          "base_uri": "https://localhost:8080/"
        },
        "id": "k-k5RMZvrB2w",
        "outputId": "10222c70-2019-4de4-86d7-dcafcc1afdca"
      },
      "execution_count": null,
      "outputs": [
        {
          "output_type": "execute_result",
          "data": {
            "text/plain": [
              "(0, torch.Size([]))"
            ]
          },
          "metadata": {},
          "execution_count": 4
        }
      ]
    },
    {
      "cell_type": "code",
      "source": [
        "# Get tensor back as Python int\n",
        "scalar.item()\n",
        "number = scalar.item()\n",
        "print(number)\n",
        "print(type(number))"
      ],
      "metadata": {
        "colab": {
          "base_uri": "https://localhost:8080/"
        },
        "id": "jWdhIqivrdIT",
        "outputId": "38012e33-0512-4cdd-e9fd-21227af6633c"
      },
      "execution_count": null,
      "outputs": [
        {
          "output_type": "stream",
          "name": "stdout",
          "text": [
            "7\n",
            "<class 'int'>\n"
          ]
        }
      ]
    },
    {
      "cell_type": "code",
      "source": [
        "# Vector\n",
        "vector = torch.tensor([7,7])\n",
        "vector"
      ],
      "metadata": {
        "colab": {
          "base_uri": "https://localhost:8080/"
        },
        "id": "nFJORvrir4Eu",
        "outputId": "d26b077a-21d7-45df-b1d0-4e89630e0a1e"
      },
      "execution_count": null,
      "outputs": [
        {
          "output_type": "execute_result",
          "data": {
            "text/plain": [
              "tensor([7, 7])"
            ]
          },
          "metadata": {},
          "execution_count": 6
        }
      ]
    },
    {
      "cell_type": "code",
      "source": [
        "vector.ndim"
      ],
      "metadata": {
        "colab": {
          "base_uri": "https://localhost:8080/"
        },
        "id": "iEMn5XL0s_9G",
        "outputId": "010545dc-d2cd-4c7e-b9d2-4a831f6c6d76"
      },
      "execution_count": null,
      "outputs": [
        {
          "output_type": "execute_result",
          "data": {
            "text/plain": [
              "1"
            ]
          },
          "metadata": {},
          "execution_count": 7
        }
      ]
    },
    {
      "cell_type": "code",
      "source": [
        "vector.shape"
      ],
      "metadata": {
        "colab": {
          "base_uri": "https://localhost:8080/"
        },
        "id": "x6Ytfv-8tzZa",
        "outputId": "a6324e80-178c-4515-d4e1-c57486b2286d"
      },
      "execution_count": null,
      "outputs": [
        {
          "output_type": "execute_result",
          "data": {
            "text/plain": [
              "torch.Size([2])"
            ]
          },
          "metadata": {},
          "execution_count": 8
        }
      ]
    },
    {
      "cell_type": "code",
      "source": [
        "# MATRIX\n",
        "MATRIX = torch.tensor([[7, 8],\n",
        "                       [9, 10]])\n",
        "MATRIX"
      ],
      "metadata": {
        "colab": {
          "base_uri": "https://localhost:8080/"
        },
        "id": "WBaN76BOvQld",
        "outputId": "72350e68-ef62-4372-dcab-4f72a98a70a4"
      },
      "execution_count": null,
      "outputs": [
        {
          "output_type": "execute_result",
          "data": {
            "text/plain": [
              "tensor([[ 7,  8],\n",
              "        [ 9, 10]])"
            ]
          },
          "metadata": {},
          "execution_count": 9
        }
      ]
    },
    {
      "cell_type": "code",
      "source": [
        "MATRIX.ndim"
      ],
      "metadata": {
        "colab": {
          "base_uri": "https://localhost:8080/"
        },
        "id": "5G8K4FH3v4Zc",
        "outputId": "550c8cc7-e98a-4060-aac8-312e38bd3309"
      },
      "execution_count": null,
      "outputs": [
        {
          "output_type": "execute_result",
          "data": {
            "text/plain": [
              "2"
            ]
          },
          "metadata": {},
          "execution_count": 10
        }
      ]
    },
    {
      "cell_type": "code",
      "source": [
        "MATRIX[0][0]"
      ],
      "metadata": {
        "colab": {
          "base_uri": "https://localhost:8080/"
        },
        "id": "7qs30YixwEJT",
        "outputId": "236fbf4a-a68b-46e0-b49b-d37276f98633"
      },
      "execution_count": null,
      "outputs": [
        {
          "output_type": "execute_result",
          "data": {
            "text/plain": [
              "tensor(7)"
            ]
          },
          "metadata": {},
          "execution_count": 11
        }
      ]
    },
    {
      "cell_type": "code",
      "source": [
        "MATRIX[1]"
      ],
      "metadata": {
        "colab": {
          "base_uri": "https://localhost:8080/"
        },
        "id": "i0z32PAkwGhh",
        "outputId": "b609a785-52fa-4663-ad03-92e31fe12ef1"
      },
      "execution_count": null,
      "outputs": [
        {
          "output_type": "execute_result",
          "data": {
            "text/plain": [
              "tensor([ 9, 10])"
            ]
          },
          "metadata": {},
          "execution_count": 12
        }
      ]
    },
    {
      "cell_type": "code",
      "source": [
        "MATRIX.shape"
      ],
      "metadata": {
        "colab": {
          "base_uri": "https://localhost:8080/"
        },
        "id": "7Je8T814wZvb",
        "outputId": "32b5172b-d84c-4f07-a92f-0d767ba22593"
      },
      "execution_count": null,
      "outputs": [
        {
          "output_type": "execute_result",
          "data": {
            "text/plain": [
              "torch.Size([2, 2])"
            ]
          },
          "metadata": {},
          "execution_count": 13
        }
      ]
    },
    {
      "cell_type": "code",
      "source": [
        "# TENSOR\n",
        "TENSOR = torch.tensor([[[1, 2, 3],\n",
        "                        [3, 6, 9],\n",
        "                        [2, 4, 5]]])\n",
        "TENSOR"
      ],
      "metadata": {
        "colab": {
          "base_uri": "https://localhost:8080/"
        },
        "id": "iLYDjCWCxTDk",
        "outputId": "595d255a-8fac-4cbd-e216-85d2e38c3e0c"
      },
      "execution_count": null,
      "outputs": [
        {
          "output_type": "execute_result",
          "data": {
            "text/plain": [
              "tensor([[[1, 2, 3],\n",
              "         [3, 6, 9],\n",
              "         [2, 4, 5]]])"
            ]
          },
          "metadata": {},
          "execution_count": 14
        }
      ]
    },
    {
      "cell_type": "code",
      "source": [
        "TENSOR.ndim"
      ],
      "metadata": {
        "colab": {
          "base_uri": "https://localhost:8080/"
        },
        "id": "Rk33vASRyCrV",
        "outputId": "dd193ea5-57bf-401a-9637-b7e1460c2256"
      },
      "execution_count": null,
      "outputs": [
        {
          "output_type": "execute_result",
          "data": {
            "text/plain": [
              "3"
            ]
          },
          "metadata": {},
          "execution_count": 15
        }
      ]
    },
    {
      "cell_type": "code",
      "source": [
        "TENSOR.shape"
      ],
      "metadata": {
        "colab": {
          "base_uri": "https://localhost:8080/"
        },
        "id": "e7tuopU6ycLv",
        "outputId": "4aeb23e4-5ebf-469d-ed37-5690bc95dae1"
      },
      "execution_count": null,
      "outputs": [
        {
          "output_type": "execute_result",
          "data": {
            "text/plain": [
              "torch.Size([1, 3, 3])"
            ]
          },
          "metadata": {},
          "execution_count": 16
        }
      ]
    },
    {
      "cell_type": "code",
      "source": [
        "TENSOR[0]"
      ],
      "metadata": {
        "id": "duG9CPXoFck5",
        "colab": {
          "base_uri": "https://localhost:8080/"
        },
        "outputId": "b7ac8b8a-ab5d-43cc-df3e-86eb6fe8d2e1"
      },
      "execution_count": null,
      "outputs": [
        {
          "output_type": "execute_result",
          "data": {
            "text/plain": [
              "tensor([[1, 2, 3],\n",
              "        [3, 6, 9],\n",
              "        [2, 4, 5]])"
            ]
          },
          "metadata": {},
          "execution_count": 17
        }
      ]
    },
    {
      "cell_type": "code",
      "source": [
        "TENSOR[0][0][2]"
      ],
      "metadata": {
        "colab": {
          "base_uri": "https://localhost:8080/"
        },
        "id": "9nqW_0_2Fy_j",
        "outputId": "1b7bd0a3-20b4-4467-cb8f-7f794d68d36d"
      },
      "execution_count": null,
      "outputs": [
        {
          "output_type": "execute_result",
          "data": {
            "text/plain": [
              "tensor(3)"
            ]
          },
          "metadata": {},
          "execution_count": 18
        }
      ]
    },
    {
      "cell_type": "markdown",
      "source": [
        "### Random Tensors\n",
        "\n",
        "Why random tensors?\n",
        "\n",
        "Random tensors are important because the way neural networks learn is that they start with tensors full of random numbers and then adjust those random numbers to better represent the data.\n",
        "\n",
        "`Start with random numbers -> look at data -> update random numbers -> look at data -> update random numbers`\n",
        "\n",
        "Torch random tensors - https://pytorch.org/docs/stable/generated/torch.rand.html#torch.rand"
      ],
      "metadata": {
        "id": "NOrFIO3dGl7k"
      }
    },
    {
      "cell_type": "code",
      "source": [
        "# Create a random tensor of size (3, 4)\n",
        "randomTensor = torch.rand(3, 4)\n",
        "randomTensor"
      ],
      "metadata": {
        "colab": {
          "base_uri": "https://localhost:8080/"
        },
        "id": "TkqIRCwgI87n",
        "outputId": "a57d1cb0-0af6-4373-df45-9b2247cce7ad"
      },
      "execution_count": null,
      "outputs": [
        {
          "output_type": "execute_result",
          "data": {
            "text/plain": [
              "tensor([[0.2715, 0.1981, 0.4078, 0.7635],\n",
              "        [0.5011, 0.1951, 0.1147, 0.2991],\n",
              "        [0.3830, 0.2935, 0.9832, 0.0171]])"
            ]
          },
          "metadata": {},
          "execution_count": 19
        }
      ]
    },
    {
      "cell_type": "code",
      "source": [
        "randomTensor.ndim"
      ],
      "metadata": {
        "colab": {
          "base_uri": "https://localhost:8080/"
        },
        "id": "-g_ORQjtdnKo",
        "outputId": "864dca80-30d6-437e-a875-69fcf11130a5"
      },
      "execution_count": null,
      "outputs": [
        {
          "output_type": "execute_result",
          "data": {
            "text/plain": [
              "2"
            ]
          },
          "metadata": {},
          "execution_count": 20
        }
      ]
    },
    {
      "cell_type": "code",
      "source": [
        "randomTensor.shape"
      ],
      "metadata": {
        "colab": {
          "base_uri": "https://localhost:8080/"
        },
        "id": "n-SYZ14Td1QZ",
        "outputId": "e2a6ccdf-51ae-458e-fd65-131102a9f506"
      },
      "execution_count": null,
      "outputs": [
        {
          "output_type": "execute_result",
          "data": {
            "text/plain": [
              "torch.Size([3, 4])"
            ]
          },
          "metadata": {},
          "execution_count": 21
        }
      ]
    },
    {
      "cell_type": "code",
      "source": [
        "# Create a random tensor with similar shape to an image tensor\n",
        "randomImageSizeTensor = torch.rand(size=(224, 224, 3)) # height, width, color channels\n",
        "randomImageSizeTensor.ndim, randomImageSizeTensor.shape\n"
      ],
      "metadata": {
        "colab": {
          "base_uri": "https://localhost:8080/"
        },
        "id": "WQwo2vg3ekyu",
        "outputId": "4489397f-56d2-4847-ebe3-325b24157d5e"
      },
      "execution_count": null,
      "outputs": [
        {
          "output_type": "execute_result",
          "data": {
            "text/plain": [
              "(3, torch.Size([224, 224, 3]))"
            ]
          },
          "metadata": {},
          "execution_count": 22
        }
      ]
    },
    {
      "cell_type": "code",
      "source": [
        "randomTensor2 = torch.rand(size=(10,5,12,1,5))\n",
        "randomTensor2.ndim, randomTensor2.shape"
      ],
      "metadata": {
        "colab": {
          "base_uri": "https://localhost:8080/"
        },
        "id": "MB17S_RBhfQu",
        "outputId": "36fe933b-5732-45cc-e047-bcf4e7a033d9"
      },
      "execution_count": null,
      "outputs": [
        {
          "output_type": "execute_result",
          "data": {
            "text/plain": [
              "(5, torch.Size([10, 5, 12, 1, 5]))"
            ]
          },
          "metadata": {},
          "execution_count": 23
        }
      ]
    },
    {
      "cell_type": "markdown",
      "source": [
        "### Zeros and Ones"
      ],
      "metadata": {
        "id": "HPQu1Rp2iOqq"
      }
    },
    {
      "cell_type": "code",
      "source": [
        "# Create a tensor of all zeros\n",
        "zeros = torch.zeros(size=(3, 4))\n",
        "zeros"
      ],
      "metadata": {
        "colab": {
          "base_uri": "https://localhost:8080/"
        },
        "id": "KiWjuS0GiRWK",
        "outputId": "741be987-2963-446d-a233-7fe34624093f"
      },
      "execution_count": null,
      "outputs": [
        {
          "output_type": "execute_result",
          "data": {
            "text/plain": [
              "tensor([[0., 0., 0., 0.],\n",
              "        [0., 0., 0., 0.],\n",
              "        [0., 0., 0., 0.]])"
            ]
          },
          "metadata": {},
          "execution_count": 24
        }
      ]
    },
    {
      "cell_type": "code",
      "source": [
        "# Create a tensor of all ones\n",
        "ones = torch.ones(size=(3, 4))\n",
        "ones"
      ],
      "metadata": {
        "colab": {
          "base_uri": "https://localhost:8080/"
        },
        "id": "0OlADn3kipLG",
        "outputId": "5ab33696-fe85-4e9d-e4b1-776d4e8b4530"
      },
      "execution_count": null,
      "outputs": [
        {
          "output_type": "execute_result",
          "data": {
            "text/plain": [
              "tensor([[1., 1., 1., 1.],\n",
              "        [1., 1., 1., 1.],\n",
              "        [1., 1., 1., 1.]])"
            ]
          },
          "metadata": {},
          "execution_count": 25
        }
      ]
    },
    {
      "cell_type": "code",
      "source": [
        "ones.dtype"
      ],
      "metadata": {
        "colab": {
          "base_uri": "https://localhost:8080/"
        },
        "id": "Ksz1TvbYkGY5",
        "outputId": "0619de30-7cd6-4b07-db67-c7035640abba"
      },
      "execution_count": null,
      "outputs": [
        {
          "output_type": "execute_result",
          "data": {
            "text/plain": [
              "torch.float32"
            ]
          },
          "metadata": {},
          "execution_count": 26
        }
      ]
    },
    {
      "cell_type": "code",
      "source": [
        "randomTensor.dtype"
      ],
      "metadata": {
        "colab": {
          "base_uri": "https://localhost:8080/"
        },
        "id": "j7LvSg66kYhy",
        "outputId": "532f8626-2152-4ec2-9f4b-53fe15093a32"
      },
      "execution_count": null,
      "outputs": [
        {
          "output_type": "execute_result",
          "data": {
            "text/plain": [
              "torch.float32"
            ]
          },
          "metadata": {},
          "execution_count": 27
        }
      ]
    },
    {
      "cell_type": "markdown",
      "source": [
        "### Creating a range of tensors and tensors-like"
      ],
      "metadata": {
        "id": "DH2OvIyukre6"
      }
    },
    {
      "cell_type": "code",
      "source": [
        "# torch.range() is deprecated, use torch.arange() instead\n",
        "oneToTen = torch.arange(start=1, end=11, step=1)\n",
        "oneToTen, oneToTen.dtype"
      ],
      "metadata": {
        "colab": {
          "base_uri": "https://localhost:8080/"
        },
        "id": "3VGZ4axfkvQR",
        "outputId": "23628eb0-ea55-4005-ae57-c38dc0a320d9"
      },
      "execution_count": null,
      "outputs": [
        {
          "output_type": "execute_result",
          "data": {
            "text/plain": [
              "(tensor([ 1,  2,  3,  4,  5,  6,  7,  8,  9, 10]), torch.int64)"
            ]
          },
          "metadata": {},
          "execution_count": 28
        }
      ]
    },
    {
      "cell_type": "code",
      "source": [
        "# Creating tensors like\n",
        "tenZeros = torch.zeros_like(input=oneToTen)\n",
        "tenZeros, tenZeros.dtype"
      ],
      "metadata": {
        "colab": {
          "base_uri": "https://localhost:8080/"
        },
        "id": "M9PwVdjDmVd6",
        "outputId": "9c91d7e7-5b4a-4403-ae3d-471d77720d78"
      },
      "execution_count": null,
      "outputs": [
        {
          "output_type": "execute_result",
          "data": {
            "text/plain": [
              "(tensor([0, 0, 0, 0, 0, 0, 0, 0, 0, 0]), torch.int64)"
            ]
          },
          "metadata": {},
          "execution_count": 29
        }
      ]
    },
    {
      "cell_type": "markdown",
      "source": [
        "### Tensor datatypes\n",
        "\n",
        "**Note:** Tensor datatypes is one of the three big errors you will run into with Pytorch and deep learning:\n",
        "1. Tensors not right datatype\n",
        "2. Tensors not right shape\n",
        "3. Tensors not on the right device\n",
        "\n",
        "Precision in CS - https://en.wikipedia.org/wiki/Precision_(computer_science)"
      ],
      "metadata": {
        "id": "btzQ457GnA2s"
      }
    },
    {
      "cell_type": "code",
      "source": [
        "# Float 32 tensor\n",
        "float32Tensor = torch.tensor([3.0, 6.0, 9.0],\n",
        "                             dtype=None,          # What datatype is the tensor (e.g. float32 or float16)\n",
        "                             device='cpu',        # What device is your tensor on\n",
        "                             requires_grad=False) # whether or not to track gradients with this tensors' operations\n",
        "float32Tensor, float32Tensor.ndim, float32Tensor.shape"
      ],
      "metadata": {
        "colab": {
          "base_uri": "https://localhost:8080/"
        },
        "id": "ALCad0jInCpz",
        "outputId": "89f0ebf1-cd16-49d2-8d9c-52bc46424182"
      },
      "execution_count": null,
      "outputs": [
        {
          "output_type": "execute_result",
          "data": {
            "text/plain": [
              "(tensor([3., 6., 9.]), 1, torch.Size([3]))"
            ]
          },
          "metadata": {},
          "execution_count": 30
        }
      ]
    },
    {
      "cell_type": "code",
      "source": [
        "float32Tensor.dtype"
      ],
      "metadata": {
        "colab": {
          "base_uri": "https://localhost:8080/"
        },
        "id": "1uH61KptoPsH",
        "outputId": "7050d279-b1e0-4a74-99b9-0778c165da77"
      },
      "execution_count": null,
      "outputs": [
        {
          "output_type": "execute_result",
          "data": {
            "text/plain": [
              "torch.float32"
            ]
          },
          "metadata": {},
          "execution_count": 31
        }
      ]
    },
    {
      "cell_type": "code",
      "source": [
        "float16Tensor = float32Tensor.type(torch.float16)\n",
        "float16Tensor"
      ],
      "metadata": {
        "colab": {
          "base_uri": "https://localhost:8080/"
        },
        "id": "1iZEpNMS40F7",
        "outputId": "12d02065-a081-4bb6-c445-854586bbc002"
      },
      "execution_count": null,
      "outputs": [
        {
          "output_type": "execute_result",
          "data": {
            "text/plain": [
              "tensor([3., 6., 9.], dtype=torch.float16)"
            ]
          },
          "metadata": {},
          "execution_count": 32
        }
      ]
    },
    {
      "cell_type": "code",
      "source": [
        "newTensor = float16Tensor * float32Tensor\n",
        "newTensor"
      ],
      "metadata": {
        "colab": {
          "base_uri": "https://localhost:8080/"
        },
        "id": "pimMLwCE6XPN",
        "outputId": "01eeb6f9-33c5-4b60-f90c-fade5897e7b0"
      },
      "execution_count": null,
      "outputs": [
        {
          "output_type": "execute_result",
          "data": {
            "text/plain": [
              "tensor([ 9., 36., 81.])"
            ]
          },
          "metadata": {},
          "execution_count": 33
        }
      ]
    },
    {
      "cell_type": "code",
      "source": [
        "type(newTensor), newTensor.ndim, newTensor.dtype, newTensor.shape"
      ],
      "metadata": {
        "colab": {
          "base_uri": "https://localhost:8080/"
        },
        "id": "bXghtHyR6eXu",
        "outputId": "7949dadf-fcbd-4286-f613-59ded982a8d2"
      },
      "execution_count": null,
      "outputs": [
        {
          "output_type": "execute_result",
          "data": {
            "text/plain": [
              "(torch.Tensor, 1, torch.float32, torch.Size([3]))"
            ]
          },
          "metadata": {},
          "execution_count": 34
        }
      ]
    },
    {
      "cell_type": "code",
      "source": [
        "int32Tensor = torch.tensor([3, 6, 9],\n",
        "                           dtype=torch.int32)\n",
        "int32Tensor"
      ],
      "metadata": {
        "colab": {
          "base_uri": "https://localhost:8080/"
        },
        "id": "Rjq6yTix7Qp_",
        "outputId": "c9496bd9-52a2-44ad-fce9-deb9234d709e"
      },
      "execution_count": null,
      "outputs": [
        {
          "output_type": "execute_result",
          "data": {
            "text/plain": [
              "tensor([3, 6, 9], dtype=torch.int32)"
            ]
          },
          "metadata": {},
          "execution_count": 35
        }
      ]
    },
    {
      "cell_type": "code",
      "source": [
        "newNewTensor = float32Tensor * int32Tensor\n",
        "newNewTensor"
      ],
      "metadata": {
        "colab": {
          "base_uri": "https://localhost:8080/"
        },
        "id": "FtwaYGi3JOpR",
        "outputId": "11e394b0-4978-411d-b508-379acdcd2c44"
      },
      "execution_count": null,
      "outputs": [
        {
          "output_type": "execute_result",
          "data": {
            "text/plain": [
              "tensor([ 9., 36., 81.])"
            ]
          },
          "metadata": {},
          "execution_count": 36
        }
      ]
    },
    {
      "cell_type": "code",
      "source": [
        "newNewTensor.ndim, newNewTensor.dtype"
      ],
      "metadata": {
        "colab": {
          "base_uri": "https://localhost:8080/"
        },
        "id": "9N-Mn5i2JT3e",
        "outputId": "10c9480a-772d-46f3-95d9-88ed33aad54d"
      },
      "execution_count": null,
      "outputs": [
        {
          "output_type": "execute_result",
          "data": {
            "text/plain": [
              "(1, torch.float32)"
            ]
          },
          "metadata": {},
          "execution_count": 37
        }
      ]
    },
    {
      "cell_type": "markdown",
      "source": [
        "### Getting information from tensors (tensor attributes)\n",
        "1. Tensors not right datatype - to get datatype from a tensor, can use tensor.dtype\n",
        "2. Tensors not right shape - to get shape from a tensor, can use tensor.shape\n",
        "3. Tensors not on the right device - to get device from a tensor, can use tensor.device"
      ],
      "metadata": {
        "id": "CbCp0bT5KQ_f"
      }
    },
    {
      "cell_type": "code",
      "source": [
        "# Create a tensor\n",
        "someTensor = torch.rand(3, 4)\n",
        "someTensor"
      ],
      "metadata": {
        "colab": {
          "base_uri": "https://localhost:8080/"
        },
        "id": "9hfAJiPANWds",
        "outputId": "0179b3bc-7437-405e-9ae5-4c3a5f239b1f"
      },
      "execution_count": null,
      "outputs": [
        {
          "output_type": "execute_result",
          "data": {
            "text/plain": [
              "tensor([[0.8411, 0.1701, 0.9543, 0.5667],\n",
              "        [0.9857, 0.7806, 0.4652, 0.3050],\n",
              "        [0.6420, 0.7160, 0.0317, 0.6547]])"
            ]
          },
          "metadata": {},
          "execution_count": 38
        }
      ]
    },
    {
      "cell_type": "code",
      "source": [
        "# Find out details about someTensor\n",
        "print(someTensor)\n",
        "print(f\"Datatype of tensor: {someTensor.dtype}\")\n",
        "print(f\"Shape of tensor: {someTensor.shape}\")\n",
        "print(f\"Device tensor is on: {someTensor.device}\")"
      ],
      "metadata": {
        "colab": {
          "base_uri": "https://localhost:8080/"
        },
        "id": "BluIbwsZNfUm",
        "outputId": "ccd3d9a0-f38b-4b0b-b4f3-e2393d151f64"
      },
      "execution_count": null,
      "outputs": [
        {
          "output_type": "stream",
          "name": "stdout",
          "text": [
            "tensor([[0.8411, 0.1701, 0.9543, 0.5667],\n",
            "        [0.9857, 0.7806, 0.4652, 0.3050],\n",
            "        [0.6420, 0.7160, 0.0317, 0.6547]])\n",
            "Datatype of tensor: torch.float32\n",
            "Shape of tensor: torch.Size([3, 4])\n",
            "Device tensor is on: cpu\n"
          ]
        }
      ]
    },
    {
      "cell_type": "code",
      "source": [
        "test = torch.Tensor([])\n",
        "test.ndim, test.shape, test, test.dtype"
      ],
      "metadata": {
        "colab": {
          "base_uri": "https://localhost:8080/"
        },
        "id": "w4z7NVOlpssL",
        "outputId": "9f60bf60-5140-4eee-f765-a29b1f676f96"
      },
      "execution_count": null,
      "outputs": [
        {
          "output_type": "execute_result",
          "data": {
            "text/plain": [
              "(1, torch.Size([0]), tensor([]), torch.float32)"
            ]
          },
          "metadata": {},
          "execution_count": 40
        }
      ]
    },
    {
      "cell_type": "code",
      "source": [
        "test2 = torch.tensor(4)\n",
        "test2.ndim, test2.shape, test2, test2.dtype"
      ],
      "metadata": {
        "colab": {
          "base_uri": "https://localhost:8080/"
        },
        "id": "kFhG03Mbp9Zr",
        "outputId": "77fc7ed1-7216-4714-c1c0-e1a92d82dd47"
      },
      "execution_count": null,
      "outputs": [
        {
          "output_type": "execute_result",
          "data": {
            "text/plain": [
              "(0, torch.Size([]), tensor(4), torch.int64)"
            ]
          },
          "metadata": {},
          "execution_count": 41
        }
      ]
    },
    {
      "cell_type": "code",
      "source": [
        "torch.get_default_dtype()"
      ],
      "metadata": {
        "colab": {
          "base_uri": "https://localhost:8080/"
        },
        "id": "X9iJSiVTJD4A",
        "outputId": "3dc698bb-72c8-4ac1-eb08-096be5b614a1"
      },
      "execution_count": null,
      "outputs": [
        {
          "output_type": "execute_result",
          "data": {
            "text/plain": [
              "torch.float32"
            ]
          },
          "metadata": {},
          "execution_count": 42
        }
      ]
    },
    {
      "cell_type": "code",
      "source": [
        "myTensor = torch.tensor([3.0, 6.0, 9.0],\n",
        "                        dtype=torch.float64,\n",
        "                        device=\"cuda\")\n",
        "print(myTensor)\n",
        "print(f\"Datatype of tensor: {myTensor.dtype}\")\n",
        "print(f\"Shape of tensor: {myTensor.shape}\")\n",
        "print(f\"Device tensor is on: {myTensor.device}\")"
      ],
      "metadata": {
        "colab": {
          "base_uri": "https://localhost:8080/"
        },
        "id": "i6vrGKbOSaf7",
        "outputId": "a45ac2a6-7e79-49c6-ed1b-a09fbd08c84a"
      },
      "execution_count": null,
      "outputs": [
        {
          "output_type": "stream",
          "name": "stdout",
          "text": [
            "tensor([3., 6., 9.], device='cuda:0', dtype=torch.float64)\n",
            "Datatype of tensor: torch.float64\n",
            "Shape of tensor: torch.Size([3])\n",
            "Device tensor is on: cuda:0\n"
          ]
        }
      ]
    },
    {
      "cell_type": "markdown",
      "source": [
        "### Manipulating Tensors (tensor operations)\n",
        "\n",
        "Tensor operations include:\n",
        "* Addition\n",
        "* Subtraction\n",
        "* Multiplication (element-wise)\n",
        "* Division\n",
        "* Matrix multiplication"
      ],
      "metadata": {
        "id": "xgvVEaxH7q6m"
      }
    },
    {
      "cell_type": "code",
      "source": [
        "# Create a tensor and add ten to it\n",
        "anotherTensor = torch.tensor([1, 2, 3])\n",
        "anotherTensor.dtype\n",
        "anotherTensor + 10, anotherTensor\n"
      ],
      "metadata": {
        "id": "LKdljCDZ8PZb",
        "colab": {
          "base_uri": "https://localhost:8080/"
        },
        "outputId": "e87efdbb-d0fa-420f-c1f8-5ce581394547"
      },
      "execution_count": null,
      "outputs": [
        {
          "output_type": "execute_result",
          "data": {
            "text/plain": [
              "(tensor([11, 12, 13]), tensor([1, 2, 3]))"
            ]
          },
          "metadata": {},
          "execution_count": 44
        }
      ]
    },
    {
      "cell_type": "code",
      "source": [
        "# Multiply tensor by ten\n",
        "10 * anotherTensor"
      ],
      "metadata": {
        "id": "RaKO5bdM8pwM",
        "colab": {
          "base_uri": "https://localhost:8080/"
        },
        "outputId": "12c24844-ed0f-4aa8-e25d-7c8c652f9290"
      },
      "execution_count": null,
      "outputs": [
        {
          "output_type": "execute_result",
          "data": {
            "text/plain": [
              "tensor([10, 20, 30])"
            ]
          },
          "metadata": {},
          "execution_count": 45
        }
      ]
    },
    {
      "cell_type": "code",
      "source": [
        "# Subtract ten from tensor\n",
        "anotherTensor - 10"
      ],
      "metadata": {
        "id": "raDbUAWb9NZ8",
        "colab": {
          "base_uri": "https://localhost:8080/"
        },
        "outputId": "bdd28354-aa0b-436a-d222-a3ceb463afbb"
      },
      "execution_count": null,
      "outputs": [
        {
          "output_type": "execute_result",
          "data": {
            "text/plain": [
              "tensor([-9, -8, -7])"
            ]
          },
          "metadata": {},
          "execution_count": 46
        }
      ]
    },
    {
      "cell_type": "code",
      "source": [
        "# You can also use Pytorch built-in functions\n",
        "torch.mul(anotherTensor, 10), anotherTensor"
      ],
      "metadata": {
        "id": "QfCSq4wT9kEr",
        "colab": {
          "base_uri": "https://localhost:8080/"
        },
        "outputId": "92127b03-a3c3-4929-c480-96a7910d9ee6"
      },
      "execution_count": null,
      "outputs": [
        {
          "output_type": "execute_result",
          "data": {
            "text/plain": [
              "(tensor([10, 20, 30]), tensor([1, 2, 3]))"
            ]
          },
          "metadata": {},
          "execution_count": 47
        }
      ]
    },
    {
      "cell_type": "markdown",
      "source": [
        "### Matrix multiplication\n",
        "\n",
        "Two main ways of performing multiplication in neural networks and deep learning:\n",
        "\n",
        "1. Element-wise multiplication\n",
        "2. Matrix multiplication (dot product)"
      ],
      "metadata": {
        "id": "367sFvvFCJxE"
      }
    },
    {
      "cell_type": "code",
      "source": [
        "# Element-wise multiplication\n",
        "print(anotherTensor)\n",
        "print(anotherTensor, \"*\", anotherTensor)\n",
        "print(f\"Equals: {anotherTensor * anotherTensor}\")"
      ],
      "metadata": {
        "id": "lxEfBVrqwnkm",
        "colab": {
          "base_uri": "https://localhost:8080/"
        },
        "outputId": "4a53ce49-a060-4df4-9b78-3567bbe6474d"
      },
      "execution_count": null,
      "outputs": [
        {
          "output_type": "stream",
          "name": "stdout",
          "text": [
            "tensor([1, 2, 3])\n",
            "tensor([1, 2, 3]) * tensor([1, 2, 3])\n",
            "Equals: tensor([1, 4, 9])\n"
          ]
        }
      ]
    },
    {
      "cell_type": "code",
      "source": [
        "# Matrix multiplication\n",
        "print(torch.matmul(anotherTensor, anotherTensor))\n",
        "print(anotherTensor.shape)\n"
      ],
      "metadata": {
        "id": "_4VD-GH2xXCY",
        "colab": {
          "base_uri": "https://localhost:8080/"
        },
        "outputId": "e8ef2fff-8166-409d-da0e-8f4865015c67"
      },
      "execution_count": null,
      "outputs": [
        {
          "output_type": "stream",
          "name": "stdout",
          "text": [
            "tensor(14)\n",
            "torch.Size([3])\n"
          ]
        }
      ]
    },
    {
      "cell_type": "code",
      "source": [
        "pachelbel = torch.matmul(anotherTensor, anotherTensor)\n",
        "pachelbel, pachelbel.shape, pachelbel.ndim"
      ],
      "metadata": {
        "id": "UQScKkDupxwo",
        "colab": {
          "base_uri": "https://localhost:8080/"
        },
        "outputId": "13296add-6834-4a0f-98fd-bf7be2d32434"
      },
      "execution_count": null,
      "outputs": [
        {
          "output_type": "execute_result",
          "data": {
            "text/plain": [
              "(tensor(14), torch.Size([]), 0)"
            ]
          },
          "metadata": {},
          "execution_count": 50
        }
      ]
    },
    {
      "cell_type": "code",
      "source": [
        "# Matrix multiplication by hand\n",
        "%%time\n",
        "sum = 0\n",
        "for i in range(len(anotherTensor)):\n",
        "  sum += anotherTensor[i] * anotherTensor[i]\n",
        "  print(sum)\n",
        "print(sum)"
      ],
      "metadata": {
        "id": "IJnhxlRj1KlY",
        "colab": {
          "base_uri": "https://localhost:8080/"
        },
        "outputId": "4a4e2717-71e3-4c44-d1cb-424b8aaf8c8e"
      },
      "execution_count": null,
      "outputs": [
        {
          "output_type": "stream",
          "name": "stdout",
          "text": [
            "tensor(1)\n",
            "tensor(5)\n",
            "tensor(14)\n",
            "tensor(14)\n",
            "CPU times: user 4.24 ms, sys: 0 ns, total: 4.24 ms\n",
            "Wall time: 7.41 ms\n"
          ]
        }
      ]
    },
    {
      "cell_type": "code",
      "source": [
        "%%time\n",
        "torch.matmul(anotherTensor, anotherTensor)"
      ],
      "metadata": {
        "id": "3pD-58jO11N9",
        "colab": {
          "base_uri": "https://localhost:8080/"
        },
        "outputId": "b0d21e16-2d36-4919-a447-cdc03fa76937"
      },
      "execution_count": null,
      "outputs": [
        {
          "output_type": "stream",
          "name": "stdout",
          "text": [
            "CPU times: user 932 µs, sys: 211 µs, total: 1.14 ms\n",
            "Wall time: 13.7 ms\n"
          ]
        },
        {
          "output_type": "execute_result",
          "data": {
            "text/plain": [
              "tensor(14)"
            ]
          },
          "metadata": {},
          "execution_count": 52
        }
      ]
    },
    {
      "cell_type": "markdown",
      "source": [
        "### Intermezzo: A first use of:\n",
        "\n",
        "`torch.nn.linear()`\n",
        "\n",
        "The torch.nn.Linear() module (we'll see this in action later on), also known as a feed-forward layer or fully connected layer, implements a matrix multiplication between an input x and a weights matrix A.\n",
        "\n",
        "`y = x ⋅ AT + b`\n",
        "\n",
        "Where:\\\n",
        "`x` is the input to the layer\\\n",
        "`A` is the weights matrix created by the layer, this starts out as random numbers that get adjusted as a neural network learns to better represent patterns in the data (the weight matrix gets transposed)\n",
        "`b` is the bias term, used to slightly offset the weights and inputs\\\n",
        "`y` is the output\n"
      ],
      "metadata": {
        "id": "VMStvFfPJNhz"
      }
    },
    {
      "cell_type": "code",
      "source": [
        "# Let's play aroudn with a linear layer\n",
        "# Since the linear layer starts with a random weights matrix, let's make it reproducible (more on this later)\n",
        "torch.manual_seed(42)\n",
        "# This uses matrix multiplication\n",
        "linear = torch.nn.Linear(in_features=3, # in_features = matches inner dimension of input\n",
        "                         out_features=6)  #out_features = describes outer value\n",
        "x = torch.tensor([[1, 2],\n",
        "                  [3, 4],\n",
        "                  [5, 6]], dtype=torch.float32)\n",
        "output = linear(x.T)\n",
        "print(f\"Input shape {x.T.shape}\\n\")\n",
        "print(f\"Output:\\n {output}\\n Output shape: {output.shape}\")"
      ],
      "metadata": {
        "id": "cmhObEOHSeBh",
        "colab": {
          "base_uri": "https://localhost:8080/"
        },
        "outputId": "ac422767-3c29-431a-aa91-b9c4483ba2c5"
      },
      "execution_count": null,
      "outputs": [
        {
          "output_type": "stream",
          "name": "stdout",
          "text": [
            "Input shape torch.Size([2, 3])\n",
            "\n",
            "Output:\n",
            " tensor([[0.9332, 0.8805, 3.0149, 1.5545, 1.8186, 2.0634],\n",
            "        [1.7186, 1.4009, 3.5818, 1.7408, 2.6017, 2.5123]],\n",
            "       grad_fn=<AddmmBackward0>)\n",
            " Output shape: torch.Size([2, 6])\n"
          ]
        }
      ]
    },
    {
      "cell_type": "markdown",
      "source": [
        "### Finding the min, max, mean, sum, etc (tensor aggregation)"
      ],
      "metadata": {
        "id": "ylhwAfUYa_2S"
      }
    },
    {
      "cell_type": "code",
      "source": [
        "# Create a tensor\n",
        "x = torch.arange(0, 100, 10)\n",
        "x, x.ndim, x.shape"
      ],
      "metadata": {
        "id": "vHqVXcorbQe7",
        "colab": {
          "base_uri": "https://localhost:8080/"
        },
        "outputId": "051ddd4d-1181-4ed0-c7a9-e143af81be2e"
      },
      "execution_count": null,
      "outputs": [
        {
          "output_type": "execute_result",
          "data": {
            "text/plain": [
              "(tensor([ 0, 10, 20, 30, 40, 50, 60, 70, 80, 90]), 1, torch.Size([10]))"
            ]
          },
          "metadata": {},
          "execution_count": 54
        }
      ]
    },
    {
      "cell_type": "code",
      "source": [
        "#Find the min\n",
        "torch.min(x), x.min(), x.min().ndim, x.min().shape"
      ],
      "metadata": {
        "id": "be2JOgIubzPI",
        "colab": {
          "base_uri": "https://localhost:8080/"
        },
        "outputId": "d5ebae18-06dd-4be1-9870-3ff443071459"
      },
      "execution_count": null,
      "outputs": [
        {
          "output_type": "execute_result",
          "data": {
            "text/plain": [
              "(tensor(0), tensor(0), 0, torch.Size([]))"
            ]
          },
          "metadata": {},
          "execution_count": 55
        }
      ]
    },
    {
      "cell_type": "code",
      "source": [
        "#Find the max\n",
        "torch.max(x), x.max()"
      ],
      "metadata": {
        "id": "hkMLbo-Kb9_O",
        "colab": {
          "base_uri": "https://localhost:8080/"
        },
        "outputId": "ce34b2d9-f12e-4489-ec28-96f4ba067e18"
      },
      "execution_count": null,
      "outputs": [
        {
          "output_type": "execute_result",
          "data": {
            "text/plain": [
              "(tensor(90), tensor(90))"
            ]
          },
          "metadata": {},
          "execution_count": 56
        }
      ]
    },
    {
      "cell_type": "code",
      "source": [
        "#Find the mean\n",
        "torch.mean(x.type(torch.float32)), x.type(torch.float64).mean()"
      ],
      "metadata": {
        "id": "cZ9-RuBAcORI",
        "colab": {
          "base_uri": "https://localhost:8080/"
        },
        "outputId": "15e3334b-3209-4848-b036-627a4b7ecfa2"
      },
      "execution_count": null,
      "outputs": [
        {
          "output_type": "execute_result",
          "data": {
            "text/plain": [
              "(tensor(45.), tensor(45., dtype=torch.float64))"
            ]
          },
          "metadata": {},
          "execution_count": 57
        }
      ]
    },
    {
      "cell_type": "code",
      "source": [
        "#Find the sum\n",
        "torch.sum(x), x.sum()"
      ],
      "metadata": {
        "id": "hsvEV9G7fA7W",
        "colab": {
          "base_uri": "https://localhost:8080/"
        },
        "outputId": "1e6f86b0-34e3-4f98-8ffd-2e1497bc2a1a"
      },
      "execution_count": null,
      "outputs": [
        {
          "output_type": "execute_result",
          "data": {
            "text/plain": [
              "(tensor(450), tensor(450))"
            ]
          },
          "metadata": {},
          "execution_count": 58
        }
      ]
    },
    {
      "cell_type": "markdown",
      "source": [
        "### Finding the positional min and max"
      ],
      "metadata": {
        "id": "INtiBtwyjJil"
      }
    },
    {
      "cell_type": "code",
      "source": [
        "# Find the position in tensor that has the min value and the position that has the max value\n",
        "x.argmin(), x.argmax()"
      ],
      "metadata": {
        "id": "Bxx4q7o8jMSh",
        "colab": {
          "base_uri": "https://localhost:8080/"
        },
        "outputId": "2be30674-e6cd-413c-b5d8-aeb0e96d756a"
      },
      "execution_count": null,
      "outputs": [
        {
          "output_type": "execute_result",
          "data": {
            "text/plain": [
              "(tensor(0), tensor(9))"
            ]
          },
          "metadata": {},
          "execution_count": 59
        }
      ]
    },
    {
      "cell_type": "code",
      "source": [
        "x[9]"
      ],
      "metadata": {
        "id": "P8wFIEa7j-ef",
        "colab": {
          "base_uri": "https://localhost:8080/"
        },
        "outputId": "c0696fb0-db89-4848-c2de-b2173b6c08d7"
      },
      "execution_count": null,
      "outputs": [
        {
          "output_type": "execute_result",
          "data": {
            "text/plain": [
              "tensor(90)"
            ]
          },
          "metadata": {},
          "execution_count": 60
        }
      ]
    },
    {
      "cell_type": "markdown",
      "source": [
        "### Reshaping, stacking, squeezing and unsqueezing tensors\n",
        "\n",
        "* Reshaping - reshapes an input tensor to a defined shape\n",
        "* View - return a view of an input tensor of certain shape, but keep the same memory as the orginal tensor\n",
        "* Stacking - combine multiple tensors on top of each other (vstack) or side by side (hstack)\n",
        "* Squeeze - removes all `1` dimensions from a tensor\n",
        "* Unsqueeze - adds a `1` dimension to a target tensor\n",
        "* Permute - return a view of the input with dimensions permuted (swapped) in a certain way"
      ],
      "metadata": {
        "id": "sjtVxqG9z7Rm"
      }
    },
    {
      "cell_type": "code",
      "source": [
        "# Let's create a tensor\n",
        "y = torch.arange(1., 10.)\n",
        "y, y.ndim, y.shape, y.dtype"
      ],
      "metadata": {
        "id": "-jAUcrCr1ZrH",
        "colab": {
          "base_uri": "https://localhost:8080/"
        },
        "outputId": "fa5d911e-df46-47b2-c130-5e51fce0e527"
      },
      "execution_count": null,
      "outputs": [
        {
          "output_type": "execute_result",
          "data": {
            "text/plain": [
              "(tensor([1., 2., 3., 4., 5., 6., 7., 8., 9.]),\n",
              " 1,\n",
              " torch.Size([9]),\n",
              " torch.float32)"
            ]
          },
          "metadata": {},
          "execution_count": 61
        }
      ]
    },
    {
      "cell_type": "code",
      "source": [
        "# Add an extra dimension\n",
        "y_reshaped = y.reshape(1, 9)\n",
        "y_reshaped, y_reshaped.ndim, y_reshaped.shape\n"
      ],
      "metadata": {
        "id": "KNx_02nR2jXt",
        "colab": {
          "base_uri": "https://localhost:8080/"
        },
        "outputId": "dfc3f606-3f35-4471-e03b-9ac994257ba8"
      },
      "execution_count": null,
      "outputs": [
        {
          "output_type": "execute_result",
          "data": {
            "text/plain": [
              "(tensor([[1., 2., 3., 4., 5., 6., 7., 8., 9.]]), 2, torch.Size([1, 9]))"
            ]
          },
          "metadata": {},
          "execution_count": 62
        }
      ]
    },
    {
      "cell_type": "code",
      "source": [
        "# Change the view\n",
        "z = y.view(1, 9)\n",
        "z, z.shape"
      ],
      "metadata": {
        "id": "Cex6KwhX37Xs",
        "colab": {
          "base_uri": "https://localhost:8080/"
        },
        "outputId": "f2168011-06fc-4a87-b8f8-d07a88a9589e"
      },
      "execution_count": null,
      "outputs": [
        {
          "output_type": "execute_result",
          "data": {
            "text/plain": [
              "(tensor([[1., 2., 3., 4., 5., 6., 7., 8., 9.]]), torch.Size([1, 9]))"
            ]
          },
          "metadata": {},
          "execution_count": 63
        }
      ]
    },
    {
      "cell_type": "code",
      "source": [
        "# Changing z also changes y (because a view of a tensor shares the same memory as the original input)\n",
        "z[:,0] = 5\n",
        "z, y"
      ],
      "metadata": {
        "id": "yle5gSVJ6I_p",
        "colab": {
          "base_uri": "https://localhost:8080/"
        },
        "outputId": "c1352582-81e6-4fa6-aad8-fae5249d4d0a"
      },
      "execution_count": null,
      "outputs": [
        {
          "output_type": "execute_result",
          "data": {
            "text/plain": [
              "(tensor([[5., 2., 3., 4., 5., 6., 7., 8., 9.]]),\n",
              " tensor([5., 2., 3., 4., 5., 6., 7., 8., 9.]))"
            ]
          },
          "metadata": {},
          "execution_count": 64
        }
      ]
    },
    {
      "cell_type": "code",
      "source": [
        "# Stack tensors on top of each other\n",
        "y_stacked = torch.stack([y, y, y, y], dim=0)\n",
        "y_stacked, y_stacked.ndim, y_stacked.shape"
      ],
      "metadata": {
        "id": "UgExMVdZ_3Cg",
        "colab": {
          "base_uri": "https://localhost:8080/"
        },
        "outputId": "52312742-5781-42a3-f311-0a7b90897733"
      },
      "execution_count": null,
      "outputs": [
        {
          "output_type": "execute_result",
          "data": {
            "text/plain": [
              "(tensor([[5., 2., 3., 4., 5., 6., 7., 8., 9.],\n",
              "         [5., 2., 3., 4., 5., 6., 7., 8., 9.],\n",
              "         [5., 2., 3., 4., 5., 6., 7., 8., 9.],\n",
              "         [5., 2., 3., 4., 5., 6., 7., 8., 9.]]),\n",
              " 2,\n",
              " torch.Size([4, 9]))"
            ]
          },
          "metadata": {},
          "execution_count": 65
        }
      ]
    },
    {
      "cell_type": "code",
      "source": [
        "# Squeeze with torch.squeeze() - removes all single dimensions from a target tensor\n",
        "y_squeezed = torch.squeeze(y_reshaped)\n",
        "y_squeezed, y_squeezed.shape, y_reshaped, y_reshaped.shape, y, y.shape"
      ],
      "metadata": {
        "id": "hvgKCBpuB3zq",
        "colab": {
          "base_uri": "https://localhost:8080/"
        },
        "outputId": "622922d5-4ea4-4d87-d0e7-9a5930653d8e"
      },
      "execution_count": null,
      "outputs": [
        {
          "output_type": "execute_result",
          "data": {
            "text/plain": [
              "(tensor([5., 2., 3., 4., 5., 6., 7., 8., 9.]),\n",
              " torch.Size([9]),\n",
              " tensor([[5., 2., 3., 4., 5., 6., 7., 8., 9.]]),\n",
              " torch.Size([1, 9]),\n",
              " tensor([5., 2., 3., 4., 5., 6., 7., 8., 9.]),\n",
              " torch.Size([9]))"
            ]
          },
          "metadata": {},
          "execution_count": 66
        }
      ]
    },
    {
      "cell_type": "code",
      "source": [
        "y_reshaped.squeeze(), y_reshaped.squeeze().shape"
      ],
      "metadata": {
        "id": "RQIyzIAwhzG7",
        "colab": {
          "base_uri": "https://localhost:8080/"
        },
        "outputId": "c96d4549-6c94-46c6-f748-98fda8fc33cb"
      },
      "execution_count": null,
      "outputs": [
        {
          "output_type": "execute_result",
          "data": {
            "text/plain": [
              "(tensor([5., 2., 3., 4., 5., 6., 7., 8., 9.]), torch.Size([9]))"
            ]
          },
          "metadata": {},
          "execution_count": 67
        }
      ]
    },
    {
      "cell_type": "code",
      "source": [
        "# Let's check if squeeze also returns a view (it does)\n",
        "y_squeezed[8] = 65\n",
        "y_squeezed, y_squeezed.shape, y_reshaped, y_reshaped.shape, y, y.shape"
      ],
      "metadata": {
        "colab": {
          "base_uri": "https://localhost:8080/"
        },
        "id": "vxmAuOt5ujEw",
        "outputId": "a01ed367-ae3b-4fcf-a746-2cffb3f0c083"
      },
      "execution_count": null,
      "outputs": [
        {
          "output_type": "execute_result",
          "data": {
            "text/plain": [
              "(tensor([ 5.,  2.,  3.,  4.,  5.,  6.,  7.,  8., 65.]),\n",
              " torch.Size([9]),\n",
              " tensor([[ 5.,  2.,  3.,  4.,  5.,  6.,  7.,  8., 65.]]),\n",
              " torch.Size([1, 9]),\n",
              " tensor([ 5.,  2.,  3.,  4.,  5.,  6.,  7.,  8., 65.]),\n",
              " torch.Size([9]))"
            ]
          },
          "metadata": {},
          "execution_count": 68
        }
      ]
    },
    {
      "cell_type": "code",
      "source": [
        "# Unsqueeze with torch.unsqueeze() - adds a single dimension to a target tensor at a specific dim (dimension\n",
        "print(f\"Previous target: {y_squeezed}\")\n",
        "print(f\"Previous shape: {y_squeezed.shape}\")\n",
        "\n",
        "\n",
        "# Add an extra dimension with unsqueeze\n",
        "y_unsqueezed = y_squeezed.unsqueeze(dim=0)\n",
        "print(f\"New tensor: {y_unsqueezed}\")\n",
        "print(f\"New shape: {y_unsqueezed.shape}\")"
      ],
      "metadata": {
        "id": "a0RKB8f2jUR-",
        "colab": {
          "base_uri": "https://localhost:8080/"
        },
        "outputId": "8da4f94d-067c-456a-939f-79f6553dfb70"
      },
      "execution_count": null,
      "outputs": [
        {
          "output_type": "stream",
          "name": "stdout",
          "text": [
            "Previous target: tensor([ 5.,  2.,  3.,  4.,  5.,  6.,  7.,  8., 65.])\n",
            "Previous shape: torch.Size([9])\n",
            "New tensor: tensor([[ 5.,  2.,  3.,  4.,  5.,  6.,  7.,  8., 65.]])\n",
            "New shape: torch.Size([1, 9])\n"
          ]
        }
      ]
    },
    {
      "cell_type": "code",
      "source": [
        "# torch.permute - rearranges the dimensions of a target tensor in a specified order\n",
        "x_original = torch.rand(size=(2,3))\n",
        "x_original"
      ],
      "metadata": {
        "id": "ZqLnZwomlYIS",
        "colab": {
          "base_uri": "https://localhost:8080/"
        },
        "outputId": "90e8964e-c19f-47c6-d554-c990e801b330"
      },
      "execution_count": null,
      "outputs": [
        {
          "output_type": "execute_result",
          "data": {
            "text/plain": [
              "tensor([[0.1053, 0.2695, 0.3588],\n",
              "        [0.1994, 0.5472, 0.0062]])"
            ]
          },
          "metadata": {},
          "execution_count": 70
        }
      ]
    },
    {
      "cell_type": "code",
      "source": [
        "x_random = torch.rand(size=(224, 224, 3)) # [height, width, color_channels]\n",
        "x_random.shape\n"
      ],
      "metadata": {
        "id": "BFHiNCzU1M-R",
        "colab": {
          "base_uri": "https://localhost:8080/"
        },
        "outputId": "41407bea-7233-4280-aa20-e7cc6c4359a9"
      },
      "execution_count": null,
      "outputs": [
        {
          "output_type": "execute_result",
          "data": {
            "text/plain": [
              "torch.Size([224, 224, 3])"
            ]
          },
          "metadata": {},
          "execution_count": 71
        }
      ]
    },
    {
      "cell_type": "code",
      "source": [
        "# Permute the original tensor to rearrange the axis (or dim) order\n",
        "x_permuted = x_random.permute(2, 0, 1)\n",
        "x_permuted.shape"
      ],
      "metadata": {
        "id": "oO7Oukcr2n7J",
        "colab": {
          "base_uri": "https://localhost:8080/"
        },
        "outputId": "3ddae887-97e8-4cc2-84ba-24b7671b6e68"
      },
      "execution_count": null,
      "outputs": [
        {
          "output_type": "execute_result",
          "data": {
            "text/plain": [
              "torch.Size([3, 224, 224])"
            ]
          },
          "metadata": {},
          "execution_count": 72
        }
      ]
    },
    {
      "cell_type": "code",
      "source": [
        "# Permute returns a view of the original tensor and a view shares the same memory as the original tensor\n",
        "x_original_permuted = x_original.permute(1, 0)\n",
        "x_original_permuted[2,1] = 777.777\n",
        "x_original_permuted, x_original\n",
        "\n"
      ],
      "metadata": {
        "id": "kPs-f_tV3AUf",
        "colab": {
          "base_uri": "https://localhost:8080/"
        },
        "outputId": "5cd77380-645a-4277-a169-975f956be3b8"
      },
      "execution_count": null,
      "outputs": [
        {
          "output_type": "execute_result",
          "data": {
            "text/plain": [
              "(tensor([[1.0531e-01, 1.9936e-01],\n",
              "         [2.6949e-01, 5.4719e-01],\n",
              "         [3.5881e-01, 7.7778e+02]]),\n",
              " tensor([[1.0531e-01, 2.6949e-01, 3.5881e-01],\n",
              "         [1.9936e-01, 5.4719e-01, 7.7778e+02]]))"
            ]
          },
          "metadata": {},
          "execution_count": 73
        }
      ]
    },
    {
      "cell_type": "markdown",
      "source": [
        "### Indexing (selecting data from tensors)\n",
        "Indexing with PyTorch is similar to indexing with NumPy"
      ],
      "metadata": {
        "id": "uiQjKHpL5Lwe"
      }
    },
    {
      "cell_type": "code",
      "source": [
        "# Create a tensor\n",
        "gamma = torch.arange(1, 10)\n",
        "gamma = gamma.reshape(1, 3, 3)\n",
        "gamma, gamma.shape"
      ],
      "metadata": {
        "id": "lU_8usgi5Z1w",
        "colab": {
          "base_uri": "https://localhost:8080/"
        },
        "outputId": "35cf9d93-a819-47ca-a4d2-dd9aaaf6accc"
      },
      "execution_count": null,
      "outputs": [
        {
          "output_type": "execute_result",
          "data": {
            "text/plain": [
              "(tensor([[[1, 2, 3],\n",
              "          [4, 5, 6],\n",
              "          [7, 8, 9]]]),\n",
              " torch.Size([1, 3, 3]))"
            ]
          },
          "metadata": {},
          "execution_count": 74
        }
      ]
    },
    {
      "cell_type": "code",
      "source": [
        "# Let's index on our new tensor\n",
        "gamma[0,0,0], gamma[0, 2]"
      ],
      "metadata": {
        "id": "gxGU61PN6RJw",
        "colab": {
          "base_uri": "https://localhost:8080/"
        },
        "outputId": "0c7ee43e-2d00-4793-a769-6737710a36c7"
      },
      "execution_count": null,
      "outputs": [
        {
          "output_type": "execute_result",
          "data": {
            "text/plain": [
              "(tensor(1), tensor([7, 8, 9]))"
            ]
          },
          "metadata": {},
          "execution_count": 75
        }
      ]
    },
    {
      "cell_type": "code",
      "source": [
        "gamma[0,1,1]"
      ],
      "metadata": {
        "id": "2Tp5thfZJLle",
        "colab": {
          "base_uri": "https://localhost:8080/"
        },
        "outputId": "abd4c395-5f90-4329-aa3c-64ed1337d695"
      },
      "execution_count": null,
      "outputs": [
        {
          "output_type": "execute_result",
          "data": {
            "text/plain": [
              "tensor(5)"
            ]
          },
          "metadata": {},
          "execution_count": 76
        }
      ]
    },
    {
      "cell_type": "code",
      "source": [
        "# Get number 9\n",
        "gamma[0,2,2]"
      ],
      "metadata": {
        "id": "qgUhcdYfIknT",
        "colab": {
          "base_uri": "https://localhost:8080/"
        },
        "outputId": "51d503ff-962d-4aba-b149-7562ea839d45"
      },
      "execution_count": null,
      "outputs": [
        {
          "output_type": "execute_result",
          "data": {
            "text/plain": [
              "tensor(9)"
            ]
          },
          "metadata": {},
          "execution_count": 77
        }
      ]
    },
    {
      "cell_type": "code",
      "source": [
        "# You can also use \":\" to select \"all\" of a target dimension\n",
        "gamma[:, 0]"
      ],
      "metadata": {
        "id": "pDMANrv_Jgyv",
        "colab": {
          "base_uri": "https://localhost:8080/"
        },
        "outputId": "a556aa87-1b27-4557-a4b9-43e26734ff7e"
      },
      "execution_count": null,
      "outputs": [
        {
          "output_type": "execute_result",
          "data": {
            "text/plain": [
              "tensor([[1, 2, 3]])"
            ]
          },
          "metadata": {},
          "execution_count": 78
        }
      ]
    },
    {
      "cell_type": "code",
      "source": [
        "gamma[:, :, 0], gamma[:, :, 0].shape"
      ],
      "metadata": {
        "id": "DHVB50FmZwVD",
        "colab": {
          "base_uri": "https://localhost:8080/"
        },
        "outputId": "bc532488-6d6b-4605-e716-2fcf5565103d"
      },
      "execution_count": null,
      "outputs": [
        {
          "output_type": "execute_result",
          "data": {
            "text/plain": [
              "(tensor([[1, 4, 7]]), torch.Size([1, 3]))"
            ]
          },
          "metadata": {},
          "execution_count": 79
        }
      ]
    },
    {
      "cell_type": "code",
      "source": [
        "# Get all values of 0th and 1st dimensions, but only index 1 of 2nd dimension\n",
        "gamma[:, :, 1]"
      ],
      "metadata": {
        "id": "PLlJ1j-VaC8p",
        "colab": {
          "base_uri": "https://localhost:8080/"
        },
        "outputId": "faa4203f-6653-41ce-9e18-ddfea4479651"
      },
      "execution_count": null,
      "outputs": [
        {
          "output_type": "execute_result",
          "data": {
            "text/plain": [
              "tensor([[2, 5, 8]])"
            ]
          },
          "metadata": {},
          "execution_count": 80
        }
      ]
    },
    {
      "cell_type": "code",
      "source": [
        "# Get all values of the 0th dimension, but only the 1 index value of the 1st and 2nd dimensions\n",
        "gamma[:, 1, 1]"
      ],
      "metadata": {
        "id": "0BnILNoQaerF",
        "colab": {
          "base_uri": "https://localhost:8080/"
        },
        "outputId": "47d01308-7ecf-478d-c40f-c44852633f85"
      },
      "execution_count": null,
      "outputs": [
        {
          "output_type": "execute_result",
          "data": {
            "text/plain": [
              "tensor([5])"
            ]
          },
          "metadata": {},
          "execution_count": 81
        }
      ]
    },
    {
      "cell_type": "code",
      "source": [
        "# Get index 0 of 0th and 1st dimension and all values of 2nd dimension\n",
        "gamma[0, 0, :]"
      ],
      "metadata": {
        "id": "LU1iI5VwbNRz",
        "colab": {
          "base_uri": "https://localhost:8080/"
        },
        "outputId": "4a5b11b2-d5c5-43b1-d2a0-144851da7814"
      },
      "execution_count": null,
      "outputs": [
        {
          "output_type": "execute_result",
          "data": {
            "text/plain": [
              "tensor([1, 2, 3])"
            ]
          },
          "metadata": {},
          "execution_count": 82
        }
      ]
    },
    {
      "cell_type": "code",
      "source": [
        "# Index to return 9\n",
        "gamma[0, 2, 2], gamma[0][2][2]\n",
        "# Index to return 3, 6, 9\n",
        "gamma[0, :, 2]"
      ],
      "metadata": {
        "id": "Q_OXaegscl0k",
        "colab": {
          "base_uri": "https://localhost:8080/"
        },
        "outputId": "2e20844b-44cd-4f80-99f3-2b294e70eedd"
      },
      "execution_count": null,
      "outputs": [
        {
          "output_type": "execute_result",
          "data": {
            "text/plain": [
              "tensor([3, 6, 9])"
            ]
          },
          "metadata": {},
          "execution_count": 83
        }
      ]
    },
    {
      "cell_type": "markdown",
      "source": [
        "### PyTorch tensors & NumPy\n",
        "NumPy is a popular scientific Python numerical computing library.\\\n",
        "And because of this, PyTorch has functionality to interact with it.\n",
        "- Data in NumPy, want in PyTorch tensor -> `torch.from_numpy(ndarray)`\n",
        "- PyTorch tensor -> NumPy -> `torch.Tensor.numpy()`\n"
      ],
      "metadata": {
        "id": "alZpRnYDdgKM"
      }
    },
    {
      "cell_type": "code",
      "source": [
        "# NumPy array to tensor\n",
        "array = np.arange(1.0, 8.0)\n",
        "array, type(array), array.shape, array.dtype\n",
        "my_tensor = torch.from_numpy(array)\n",
        "my_tensor, array, array.dtype"
      ],
      "metadata": {
        "id": "_g_NOVFCfUxU",
        "colab": {
          "base_uri": "https://localhost:8080/"
        },
        "outputId": "9f4f02ac-1dae-4f60-93f7-9024a0561b43"
      },
      "execution_count": null,
      "outputs": [
        {
          "output_type": "execute_result",
          "data": {
            "text/plain": [
              "(tensor([1., 2., 3., 4., 5., 6., 7.], dtype=torch.float64),\n",
              " array([1., 2., 3., 4., 5., 6., 7.]),\n",
              " dtype('float64'))"
            ]
          },
          "metadata": {},
          "execution_count": 84
        }
      ]
    },
    {
      "cell_type": "code",
      "source": [
        "# If we want the default data type that PyTorch uses\n",
        "my_tensor_02 = torch.from_numpy(array).type(torch.float32)\n",
        "my_tensor_02, my_tensor_02.dtype"
      ],
      "metadata": {
        "id": "fSpmj3-C1PeP",
        "colab": {
          "base_uri": "https://localhost:8080/"
        },
        "outputId": "4ee709a0-a892-475c-ce9a-eea1cc0d11b8"
      },
      "execution_count": null,
      "outputs": [
        {
          "output_type": "execute_result",
          "data": {
            "text/plain": [
              "(tensor([1., 2., 3., 4., 5., 6., 7.]), torch.float32)"
            ]
          },
          "metadata": {},
          "execution_count": 85
        }
      ]
    },
    {
      "cell_type": "code",
      "source": [
        "# Change the value of the numpy array. What will this do to the tensor?\n",
        "array = array + 1\n",
        "array, my_tensor"
      ],
      "metadata": {
        "id": "-cghYtdc9hYB",
        "colab": {
          "base_uri": "https://localhost:8080/"
        },
        "outputId": "e4db7bb2-c9c2-4bf5-a8f9-370a1a7fea7f"
      },
      "execution_count": null,
      "outputs": [
        {
          "output_type": "execute_result",
          "data": {
            "text/plain": [
              "(array([2., 3., 4., 5., 6., 7., 8.]),\n",
              " tensor([1., 2., 3., 4., 5., 6., 7.], dtype=torch.float64))"
            ]
          },
          "metadata": {},
          "execution_count": 86
        }
      ]
    },
    {
      "cell_type": "code",
      "source": [
        "# Tensor to numpy array\n",
        "tensor_abc = torch.ones(4, 2)\n",
        "tensor_abc, tensor_abc.shape, tensor_abc.ndim\n",
        "numpy_tensor = tensor_abc.numpy()\n",
        "tensor_abc, numpy_tensor, type(numpy_tensor)"
      ],
      "metadata": {
        "id": "XwfN6w1B9-lf",
        "colab": {
          "base_uri": "https://localhost:8080/"
        },
        "outputId": "f1bbfc03-e457-44c4-d873-2e7feb5159a0"
      },
      "execution_count": null,
      "outputs": [
        {
          "output_type": "execute_result",
          "data": {
            "text/plain": [
              "(tensor([[1., 1.],\n",
              "         [1., 1.],\n",
              "         [1., 1.],\n",
              "         [1., 1.]]),\n",
              " array([[1., 1.],\n",
              "        [1., 1.],\n",
              "        [1., 1.],\n",
              "        [1., 1.]], dtype=float32),\n",
              " numpy.ndarray)"
            ]
          },
          "metadata": {},
          "execution_count": 87
        }
      ]
    },
    {
      "cell_type": "code",
      "source": [
        "# Change the tensor, what happens to the \"numpy_tensor\"?\n",
        "tensor_abc = tensor_abc + 1\n",
        "tensor_abc, numpy_tensor"
      ],
      "metadata": {
        "id": "6WmLLA6n_wtI",
        "colab": {
          "base_uri": "https://localhost:8080/"
        },
        "outputId": "19aa7fe8-ab83-4635-acc1-c1ccbb83a241"
      },
      "execution_count": null,
      "outputs": [
        {
          "output_type": "execute_result",
          "data": {
            "text/plain": [
              "(tensor([[2., 2.],\n",
              "         [2., 2.],\n",
              "         [2., 2.],\n",
              "         [2., 2.]]),\n",
              " array([[1., 1.],\n",
              "        [1., 1.],\n",
              "        [1., 1.],\n",
              "        [1., 1.]], dtype=float32))"
            ]
          },
          "metadata": {},
          "execution_count": 88
        }
      ]
    },
    {
      "cell_type": "markdown",
      "source": [
        "### Reproducibility (tring to take random out of random)\n",
        "In short, how a neural network learn:\\\n",
        "`start with random numbers -> tensor operations -> update random numbers to try and make them better representations of the data -> again -> again -> again...`\n",
        "\n",
        "To reduce the randomness in neural networks and PyTorch comes the concept of a **random seed**.\n",
        "\n",
        "Essentially what the random seed does is \"flavour\" the randomness."
      ],
      "metadata": {
        "id": "nhUZ0hrXDfUg"
      }
    },
    {
      "cell_type": "code",
      "source": [
        "torch.rand(3, 3)"
      ],
      "metadata": {
        "id": "CQrCg7MiEIWR",
        "colab": {
          "base_uri": "https://localhost:8080/"
        },
        "outputId": "7352005f-e933-4d6d-9ef3-5b9529edc39c"
      },
      "execution_count": null,
      "outputs": [
        {
          "output_type": "execute_result",
          "data": {
            "text/plain": [
              "tensor([[0.9536, 0.6002, 0.0351],\n",
              "        [0.6826, 0.3743, 0.5220],\n",
              "        [0.1336, 0.9666, 0.9754]])"
            ]
          },
          "metadata": {},
          "execution_count": 89
        }
      ]
    },
    {
      "cell_type": "code",
      "source": [
        "# Create two random tensors\n",
        "random_A = torch.rand(3, 4)\n",
        "random_B = torch.rand(3, 4)\n",
        "\n",
        "print(random_A)\n",
        "print(random_B)\n",
        "print(random_A == random_B)"
      ],
      "metadata": {
        "id": "HwlExLbBFDU_",
        "colab": {
          "base_uri": "https://localhost:8080/"
        },
        "outputId": "bb8e16f5-c81d-47ba-ee77-54d872829cd0"
      },
      "execution_count": null,
      "outputs": [
        {
          "output_type": "stream",
          "name": "stdout",
          "text": [
            "tensor([[0.8474, 0.8988, 0.1105, 0.4563],\n",
            "        [0.9719, 0.3968, 0.1496, 0.4743],\n",
            "        [0.9973, 0.4436, 0.9726, 0.5194]])\n",
            "tensor([[0.5337, 0.7050, 0.3362, 0.7891],\n",
            "        [0.1694, 0.1800, 0.7177, 0.6988],\n",
            "        [0.5510, 0.2485, 0.8518, 0.0963]])\n",
            "tensor([[False, False, False, False],\n",
            "        [False, False, False, False],\n",
            "        [False, False, False, False]])\n"
          ]
        }
      ]
    },
    {
      "cell_type": "code",
      "source": [
        "# Let's make some random but reproducible tensors\n",
        "\n",
        "# Set the random seed\n",
        "RANDOM_SEED = 42\n",
        "torch.manual_seed(RANDOM_SEED)\n",
        "random_C = torch.rand(3, 4)\n",
        "\n",
        "torch.manual_seed(RANDOM_SEED)\n",
        "random_D = torch.rand(3, 4)\n",
        "\n",
        "print(random_C)\n",
        "print(random_D)\n",
        "print(random_C == random_D)"
      ],
      "metadata": {
        "id": "9zcfgoJ8ytbE",
        "colab": {
          "base_uri": "https://localhost:8080/"
        },
        "outputId": "9cbce6db-f2a2-4df1-bdff-7a7a66be48e9"
      },
      "execution_count": null,
      "outputs": [
        {
          "output_type": "stream",
          "name": "stdout",
          "text": [
            "tensor([[0.8823, 0.9150, 0.3829, 0.9593],\n",
            "        [0.3904, 0.6009, 0.2566, 0.7936],\n",
            "        [0.9408, 0.1332, 0.9346, 0.5936]])\n",
            "tensor([[0.8823, 0.9150, 0.3829, 0.9593],\n",
            "        [0.3904, 0.6009, 0.2566, 0.7936],\n",
            "        [0.9408, 0.1332, 0.9346, 0.5936]])\n",
            "tensor([[True, True, True, True],\n",
            "        [True, True, True, True],\n",
            "        [True, True, True, True]])\n"
          ]
        }
      ]
    },
    {
      "cell_type": "markdown",
      "source": [
        "### Extra resources for reproducibility:\n",
        "* https://pytorch.org/docs/stable/notes/randomness.html\n",
        "* https://en.wikipedia.org/wiki/Random_seed\n",
        "* https://towardsdatascience.com/random-seeds-and-reproducibility-933da79446e3"
      ],
      "metadata": {
        "id": "pEPsNrfF1hJI"
      }
    },
    {
      "cell_type": "markdown",
      "source": [
        "### Running tensors and PyTorch objects on the GPUs (and making faster computations)\n",
        "GPUs = faster computation on numbers, thanks to CUDA + NVIDIA hardware + PyTorch working behind the scenes to make everything good"
      ],
      "metadata": {
        "id": "Nf5vRD9P3oms"
      }
    },
    {
      "cell_type": "markdown",
      "source": [
        "### 1. Getting a GPU\n",
        "\n",
        "1. Easiest - Use Google Colab for a free GPU (options to upgrade as well)\n",
        "2. Use your own GPU - takes a little bit of setup and requires the investment of purchasing a GPU, there's lots of options... See this post for more advice https://timdettmers.com/2023/01/30/which-gpu-for-deep-learning/\n",
        "3. Use cloud computing - GCP, AWS, Azure... these services allow you to rent computers on the cloud and access them\n",
        "\n",
        "For 2, 3 PyTorch + GPU drivers (CUDA) take a little bit of setting up, to do this, refer to PyTorch setup documentation: https://pytorch.org/get-started/locally/"
      ],
      "metadata": {
        "id": "2AZ-sorK6OAf"
      }
    },
    {
      "cell_type": "code",
      "source": [
        "!nvidia-smi"
      ],
      "metadata": {
        "id": "4BY9k7KXE9i5",
        "colab": {
          "base_uri": "https://localhost:8080/"
        },
        "outputId": "af8748af-e44f-426c-8e28-06dfe3481fce"
      },
      "execution_count": null,
      "outputs": [
        {
          "output_type": "stream",
          "name": "stdout",
          "text": [
            "Sat May 11 20:22:10 2024       \n",
            "+---------------------------------------------------------------------------------------+\n",
            "| NVIDIA-SMI 535.104.05             Driver Version: 535.104.05   CUDA Version: 12.2     |\n",
            "|-----------------------------------------+----------------------+----------------------+\n",
            "| GPU  Name                 Persistence-M | Bus-Id        Disp.A | Volatile Uncorr. ECC |\n",
            "| Fan  Temp   Perf          Pwr:Usage/Cap |         Memory-Usage | GPU-Util  Compute M. |\n",
            "|                                         |                      |               MIG M. |\n",
            "|=========================================+======================+======================|\n",
            "|   0  Tesla T4                       Off | 00000000:00:04.0 Off |                    0 |\n",
            "| N/A   49C    P0              27W /  70W |    121MiB / 15360MiB |      0%      Default |\n",
            "|                                         |                      |                  N/A |\n",
            "+-----------------------------------------+----------------------+----------------------+\n",
            "                                                                                         \n",
            "+---------------------------------------------------------------------------------------+\n",
            "| Processes:                                                                            |\n",
            "|  GPU   GI   CI        PID   Type   Process name                            GPU Memory |\n",
            "|        ID   ID                                                             Usage      |\n",
            "|=======================================================================================|\n",
            "+---------------------------------------------------------------------------------------+\n"
          ]
        }
      ]
    },
    {
      "cell_type": "markdown",
      "source": [
        "### 2. Check for GPU access with PyTorch"
      ],
      "metadata": {
        "id": "DNevp8q8fg9O"
      }
    },
    {
      "cell_type": "code",
      "source": [
        "# Check for GPU access with PyTorch\n",
        "torch.cuda.is_available()"
      ],
      "metadata": {
        "id": "KbMBzzd1gAOj",
        "colab": {
          "base_uri": "https://localhost:8080/"
        },
        "outputId": "6a90e461-9a13-4a6b-b008-a76dcf97f55b"
      },
      "execution_count": null,
      "outputs": [
        {
          "output_type": "execute_result",
          "data": {
            "text/plain": [
              "True"
            ]
          },
          "metadata": {},
          "execution_count": 93
        }
      ]
    },
    {
      "cell_type": "markdown",
      "source": [
        "### For PyTorch, since it's capable of running compute on the GPU or CPU, it's best practice to setup device agnostic code: https://pytorch.org/docs/stable/notes/cuda.html#best-practices\n",
        "\n",
        "e.g. run on GPU if available, else run on CPU\n",
        "\n"
      ],
      "metadata": {
        "id": "E1v95rlT16yM"
      }
    },
    {
      "cell_type": "code",
      "source": [
        "# Setup device agnostic code\n",
        "device = \"cuda\" if torch.cuda.is_available() else \"cpu\"\n",
        "device"
      ],
      "metadata": {
        "id": "J9Iv9WMZgb6H",
        "colab": {
          "base_uri": "https://localhost:8080/",
          "height": 35
        },
        "outputId": "4fe9f768-43df-48c6-a520-a4675d39d3e0"
      },
      "execution_count": null,
      "outputs": [
        {
          "output_type": "execute_result",
          "data": {
            "text/plain": [
              "'cuda'"
            ],
            "application/vnd.google.colaboratory.intrinsic+json": {
              "type": "string"
            }
          },
          "metadata": {},
          "execution_count": 94
        }
      ]
    },
    {
      "cell_type": "code",
      "source": [
        "# Count number of devices\n",
        "torch.cuda.device_count()"
      ],
      "metadata": {
        "colab": {
          "base_uri": "https://localhost:8080/"
        },
        "id": "xGvLXlT71TxE",
        "outputId": "f88a347e-0ac9-496e-9aed-1b1b6a9c8cac"
      },
      "execution_count": null,
      "outputs": [
        {
          "output_type": "execute_result",
          "data": {
            "text/plain": [
              "1"
            ]
          },
          "metadata": {},
          "execution_count": 95
        }
      ]
    },
    {
      "cell_type": "markdown",
      "source": [
        "### 3. Putting tensors (and models) on the GPU\n",
        "The reason we want our tensors/models on the GPU is because using a GPU results in faster computations"
      ],
      "metadata": {
        "id": "TiG2esfB2ecE"
      }
    },
    {
      "cell_type": "code",
      "source": [
        "# Create a tensor (default on the CPU)\n",
        "beta = torch.tensor([1, 2, 3])\n",
        "\n",
        "# Tensor not on GPU\n",
        "print(beta, beta.device)\n"
      ],
      "metadata": {
        "colab": {
          "base_uri": "https://localhost:8080/"
        },
        "id": "Yyi8hrIl3LJX",
        "outputId": "396b2a5a-2969-439a-bd11-7fa6b1efa577"
      },
      "execution_count": null,
      "outputs": [
        {
          "output_type": "stream",
          "name": "stdout",
          "text": [
            "tensor([1, 2, 3]) cpu\n"
          ]
        }
      ]
    },
    {
      "cell_type": "code",
      "source": [
        "# Move tensor to GPU (if available)\n",
        "tensor_on_gpu = beta.to(device)\n",
        "tensor_on_gpu, tensor_on_gpu.device"
      ],
      "metadata": {
        "colab": {
          "base_uri": "https://localhost:8080/"
        },
        "id": "bwgIn7cx4gRw",
        "outputId": "40efd516-70f5-485f-d452-67e48eb45b0f"
      },
      "execution_count": null,
      "outputs": [
        {
          "output_type": "execute_result",
          "data": {
            "text/plain": [
              "(tensor([1, 2, 3], device='cuda:0'), device(type='cuda', index=0))"
            ]
          },
          "metadata": {},
          "execution_count": 97
        }
      ]
    },
    {
      "cell_type": "markdown",
      "source": [
        "### 4. Moving tensors back to the CPU"
      ],
      "metadata": {
        "id": "4AnvKS645EeF"
      }
    },
    {
      "cell_type": "code",
      "source": [
        "# If tensor is on GPU, can't transform it to NumPy\n",
        "# tensor_on_gpu.numpy() gives en error"
      ],
      "metadata": {
        "id": "-MlsNhqNDJau"
      },
      "execution_count": null,
      "outputs": []
    },
    {
      "cell_type": "code",
      "source": [
        "# To fix the GPU tensor with NumPy issue, we can first set it to the CPU\n",
        "tensor_back_on_cpu = tensor_on_gpu.cpu()\n",
        "tensor_back_on_cpu.numpy(), tensor_back_on_cpu.numpy().dtype, type(tensor_back_on_cpu.numpy())"
      ],
      "metadata": {
        "colab": {
          "base_uri": "https://localhost:8080/"
        },
        "id": "8I8CbosoDsFW",
        "outputId": "aa381632-81e8-4537-b39b-ffddb4dbc4da"
      },
      "execution_count": null,
      "outputs": [
        {
          "output_type": "execute_result",
          "data": {
            "text/plain": [
              "(array([1, 2, 3]), dtype('int64'), numpy.ndarray)"
            ]
          },
          "metadata": {},
          "execution_count": 99
        }
      ]
    },
    {
      "cell_type": "code",
      "source": [
        "# Modidying the numpy array doesn't affect the tensor on gpu or cpu\n",
        "alf = tensor_back_on_cpu.numpy()\n",
        "alf = alf + 1\n",
        "alf, beta, tensor_on_gpu, tensor_back_on_cpu"
      ],
      "metadata": {
        "colab": {
          "base_uri": "https://localhost:8080/"
        },
        "id": "rv93NNIitCe8",
        "outputId": "c291c65d-85b7-429e-a148-ccab7404a3fa"
      },
      "execution_count": null,
      "outputs": [
        {
          "output_type": "execute_result",
          "data": {
            "text/plain": [
              "(array([2, 3, 4]),\n",
              " tensor([1, 2, 3]),\n",
              " tensor([1, 2, 3], device='cuda:0'),\n",
              " tensor([1, 2, 3]))"
            ]
          },
          "metadata": {},
          "execution_count": 100
        }
      ]
    },
    {
      "cell_type": "code",
      "source": [
        "# Modifying the original tensor on cpu doesn't seem to change the new tensor we took back to the cpu from the gpu\n",
        "beta = beta + 1\n",
        "tensor_back_on_cpu = tensor_back_on_cpu + 10\n",
        "alf, beta, tensor_on_gpu, tensor_back_on_cpu"
      ],
      "metadata": {
        "colab": {
          "base_uri": "https://localhost:8080/"
        },
        "id": "ODEBrBGitifO",
        "outputId": "f136d24f-2f1c-4e29-afa3-12204e856d24"
      },
      "execution_count": null,
      "outputs": [
        {
          "output_type": "execute_result",
          "data": {
            "text/plain": [
              "(array([2, 3, 4]),\n",
              " tensor([2, 3, 4]),\n",
              " tensor([1, 2, 3], device='cuda:0'),\n",
              " tensor([11, 12, 13]))"
            ]
          },
          "metadata": {},
          "execution_count": 101
        }
      ]
    },
    {
      "cell_type": "code",
      "source": [
        "tensor_on_gpu"
      ],
      "metadata": {
        "colab": {
          "base_uri": "https://localhost:8080/"
        },
        "id": "z7yKZugbFgpt",
        "outputId": "de7a5f65-937f-48d9-fca1-b52ae05222d5"
      },
      "execution_count": null,
      "outputs": [
        {
          "output_type": "execute_result",
          "data": {
            "text/plain": [
              "tensor([1, 2, 3], device='cuda:0')"
            ]
          },
          "metadata": {},
          "execution_count": 102
        }
      ]
    },
    {
      "cell_type": "code",
      "source": [
        "tensor_back_on_cpu"
      ],
      "metadata": {
        "colab": {
          "base_uri": "https://localhost:8080/"
        },
        "id": "cWmBt1m-Ri8E",
        "outputId": "bb3eab6d-4f46-4301-ba0f-57674cff55e4"
      },
      "execution_count": null,
      "outputs": [
        {
          "output_type": "execute_result",
          "data": {
            "text/plain": [
              "tensor([11, 12, 13])"
            ]
          },
          "metadata": {},
          "execution_count": 103
        }
      ]
    },
    {
      "cell_type": "code",
      "source": [
        "x = torch.tensor([[1., -1.], [1., 1.]], requires_grad=True)\n",
        "out = x.pow(2).sum()\n",
        "out.backward()\n",
        "x.grad"
      ],
      "metadata": {
        "colab": {
          "base_uri": "https://localhost:8080/"
        },
        "id": "gIhZrgWU3yHN",
        "outputId": "dd71086c-86aa-49de-deb7-3e9fa6b95c13"
      },
      "execution_count": null,
      "outputs": [
        {
          "output_type": "execute_result",
          "data": {
            "text/plain": [
              "tensor([[ 2., -2.],\n",
              "        [ 2.,  2.]])"
            ]
          },
          "metadata": {},
          "execution_count": 104
        }
      ]
    },
    {
      "cell_type": "code",
      "source": [
        "new = torch.rand(2,3)\n",
        "transpuesto = new.T\n",
        "new, transpuesto"
      ],
      "metadata": {
        "colab": {
          "base_uri": "https://localhost:8080/"
        },
        "id": "Yta5RKjWUa1G",
        "outputId": "3ce16b9f-5db2-4818-ccf8-a28a2ab251bb"
      },
      "execution_count": null,
      "outputs": [
        {
          "output_type": "execute_result",
          "data": {
            "text/plain": [
              "(tensor([[0.1053, 0.2695, 0.3588],\n",
              "         [0.1994, 0.5472, 0.0062]]),\n",
              " tensor([[0.1053, 0.1994],\n",
              "         [0.2695, 0.5472],\n",
              "         [0.3588, 0.0062]]))"
            ]
          },
          "metadata": {},
          "execution_count": 109
        }
      ]
    },
    {
      "cell_type": "code",
      "source": [
        "new[0,0] = 50\n",
        "\n",
        "new, transpuesto"
      ],
      "metadata": {
        "colab": {
          "base_uri": "https://localhost:8080/"
        },
        "id": "Gpbf13ibUutA",
        "outputId": "e2b0f140-de29-4272-9be0-a1cd715173a8"
      },
      "execution_count": null,
      "outputs": [
        {
          "output_type": "execute_result",
          "data": {
            "text/plain": [
              "(tensor([[5.0000e+01, 2.6949e-01, 3.5881e-01],\n",
              "         [1.9936e-01, 5.4719e-01, 6.1604e-03]]),\n",
              " tensor([[5.0000e+01, 1.9936e-01],\n",
              "         [2.6949e-01, 5.4719e-01],\n",
              "         [3.5881e-01, 6.1604e-03]]))"
            ]
          },
          "metadata": {},
          "execution_count": 111
        }
      ]
    }
  ]
}