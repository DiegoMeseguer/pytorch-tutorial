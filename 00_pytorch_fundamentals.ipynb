{
  "nbformat": 4,
  "nbformat_minor": 0,
  "metadata": {
    "colab": {
      "provenance": [],
      "gpuType": "T4",
      "authorship_tag": "ABX9TyPme0qkPF6m5z1+8N91hT48",
      "include_colab_link": true
    },
    "kernelspec": {
      "name": "python3",
      "display_name": "Python 3"
    },
    "language_info": {
      "name": "python"
    },
    "accelerator": "GPU"
  },
  "cells": [
    {
      "cell_type": "markdown",
      "metadata": {
        "id": "view-in-github",
        "colab_type": "text"
      },
      "source": [
        "<a href=\"https://colab.research.google.com/github/DiegoMeseguer/pytorch-tutorial/blob/main/00_pytorch_fundamentals.ipynb\" target=\"_parent\"><img src=\"https://colab.research.google.com/assets/colab-badge.svg\" alt=\"Open In Colab\"/></a>"
      ]
    },
    {
      "cell_type": "markdown",
      "source": [
        "#00. Pytorch Fundamentals\n",
        "Resource Notebook: https://www.learnpytorch.io/00_pytorch_fundamentals/ \\\n",
        "If you have questions: https://github.com/mrdbourke/pytorch-deep-learning/discussions"
      ],
      "metadata": {
        "id": "M5v9cvSlc6oV"
      }
    },
    {
      "cell_type": "code",
      "execution_count": 212,
      "metadata": {
        "colab": {
          "base_uri": "https://localhost:8080/"
        },
        "id": "zClVZeAwcqWN",
        "outputId": "cf3b541d-d999-4e8b-c6a0-bc2c9fd7ff6a"
      },
      "outputs": [
        {
          "output_type": "stream",
          "name": "stdout",
          "text": [
            "2.2.1+cu121\n"
          ]
        }
      ],
      "source": [
        "import torch\n",
        "import pandas as pd\n",
        "import numpy as np\n",
        "import matplotlib.pyplot as plt\n",
        "print(torch.__version__)"
      ]
    },
    {
      "cell_type": "code",
      "source": [
        "!ls -la\n",
        "!pwd\n",
        "!echo \"hello world\"\n",
        "!nvidia-smi\n"
      ],
      "metadata": {
        "colab": {
          "base_uri": "https://localhost:8080/"
        },
        "id": "WneuMi2gv8ts",
        "outputId": "493c474f-f404-4776-8713-ee63cf426774"
      },
      "execution_count": 213,
      "outputs": [
        {
          "output_type": "stream",
          "name": "stdout",
          "text": [
            "total 16\n",
            "drwxr-xr-x 1 root root 4096 Apr 18 13:25 .\n",
            "drwxr-xr-x 1 root root 4096 Apr 21 22:08 ..\n",
            "drwxr-xr-x 4 root root 4096 Apr 18 13:24 .config\n",
            "drwxr-xr-x 1 root root 4096 Apr 18 13:25 sample_data\n",
            "/content\n",
            "hello world\n",
            "Sun Apr 21 22:13:53 2024       \n",
            "+---------------------------------------------------------------------------------------+\n",
            "| NVIDIA-SMI 535.104.05             Driver Version: 535.104.05   CUDA Version: 12.2     |\n",
            "|-----------------------------------------+----------------------+----------------------+\n",
            "| GPU  Name                 Persistence-M | Bus-Id        Disp.A | Volatile Uncorr. ECC |\n",
            "| Fan  Temp   Perf          Pwr:Usage/Cap |         Memory-Usage | GPU-Util  Compute M. |\n",
            "|                                         |                      |               MIG M. |\n",
            "|=========================================+======================+======================|\n",
            "|   0  Tesla T4                       Off | 00000000:00:04.0 Off |                    0 |\n",
            "| N/A   44C    P0              27W /  70W |    121MiB / 15360MiB |      0%      Default |\n",
            "|                                         |                      |                  N/A |\n",
            "+-----------------------------------------+----------------------+----------------------+\n",
            "                                                                                         \n",
            "+---------------------------------------------------------------------------------------+\n",
            "| Processes:                                                                            |\n",
            "|  GPU   GI   CI        PID   Type   Process name                            GPU Memory |\n",
            "|        ID   ID                                                             Usage      |\n",
            "|=======================================================================================|\n",
            "+---------------------------------------------------------------------------------------+\n"
          ]
        }
      ]
    },
    {
      "cell_type": "markdown",
      "source": [
        "# Introduction to Tensors\n",
        "## Creating Tensors\n",
        "\n",
        "Pytorch tensor are created using `torch.Tensor()` = https://pytorch.org/docs/stable/tensors.html"
      ],
      "metadata": {
        "id": "CLw4acVg2WZR"
      }
    },
    {
      "cell_type": "code",
      "source": [
        "# Scalar\n",
        "scalar = torch.tensor(7)\n",
        "scalar\n",
        "print(type(scalar))\n",
        "print(isinstance(scalar, torch.Tensor))\n",
        "print(isinstance(scalar, dict))\n",
        "\n"
      ],
      "metadata": {
        "colab": {
          "base_uri": "https://localhost:8080/"
        },
        "id": "_KhU3hQNlcwc",
        "outputId": "4d26019b-f33b-43b2-8adb-5d4c743f5e8e"
      },
      "execution_count": 214,
      "outputs": [
        {
          "output_type": "stream",
          "name": "stdout",
          "text": [
            "<class 'torch.Tensor'>\n",
            "True\n",
            "False\n"
          ]
        }
      ]
    },
    {
      "cell_type": "code",
      "source": [
        "scalar.ndim, scalar.shape"
      ],
      "metadata": {
        "colab": {
          "base_uri": "https://localhost:8080/"
        },
        "id": "k-k5RMZvrB2w",
        "outputId": "5a4013d3-10a5-4a0b-9df9-79d1ddbce1c8"
      },
      "execution_count": 215,
      "outputs": [
        {
          "output_type": "execute_result",
          "data": {
            "text/plain": [
              "(0, torch.Size([]))"
            ]
          },
          "metadata": {},
          "execution_count": 215
        }
      ]
    },
    {
      "cell_type": "code",
      "source": [
        "# Get tensor back as Python int\n",
        "scalar.item()\n",
        "number = scalar.item()\n",
        "print(number)\n",
        "print(type(number))"
      ],
      "metadata": {
        "colab": {
          "base_uri": "https://localhost:8080/"
        },
        "id": "jWdhIqivrdIT",
        "outputId": "855a214b-aa33-41b9-e861-9e5557d027cb"
      },
      "execution_count": 216,
      "outputs": [
        {
          "output_type": "stream",
          "name": "stdout",
          "text": [
            "7\n",
            "<class 'int'>\n"
          ]
        }
      ]
    },
    {
      "cell_type": "code",
      "source": [
        "# Vector\n",
        "vector = torch.tensor([7,7])\n",
        "vector"
      ],
      "metadata": {
        "colab": {
          "base_uri": "https://localhost:8080/"
        },
        "id": "nFJORvrir4Eu",
        "outputId": "8dc54a9c-cf38-425a-a3da-5404e6435821"
      },
      "execution_count": 217,
      "outputs": [
        {
          "output_type": "execute_result",
          "data": {
            "text/plain": [
              "tensor([7, 7])"
            ]
          },
          "metadata": {},
          "execution_count": 217
        }
      ]
    },
    {
      "cell_type": "code",
      "source": [
        "vector.ndim"
      ],
      "metadata": {
        "colab": {
          "base_uri": "https://localhost:8080/"
        },
        "id": "iEMn5XL0s_9G",
        "outputId": "d96a011a-851e-4b55-8e6f-39ba9f256429"
      },
      "execution_count": 218,
      "outputs": [
        {
          "output_type": "execute_result",
          "data": {
            "text/plain": [
              "1"
            ]
          },
          "metadata": {},
          "execution_count": 218
        }
      ]
    },
    {
      "cell_type": "code",
      "source": [
        "vector.shape"
      ],
      "metadata": {
        "colab": {
          "base_uri": "https://localhost:8080/"
        },
        "id": "x6Ytfv-8tzZa",
        "outputId": "9f1d8552-541b-4fe9-a565-2bb003422956"
      },
      "execution_count": 219,
      "outputs": [
        {
          "output_type": "execute_result",
          "data": {
            "text/plain": [
              "torch.Size([2])"
            ]
          },
          "metadata": {},
          "execution_count": 219
        }
      ]
    },
    {
      "cell_type": "code",
      "source": [
        "# MATRIX\n",
        "MATRIX = torch.tensor([[7, 8],\n",
        "                       [9, 10]])\n",
        "MATRIX"
      ],
      "metadata": {
        "colab": {
          "base_uri": "https://localhost:8080/"
        },
        "id": "WBaN76BOvQld",
        "outputId": "bd699b6f-6756-478e-9c89-901ce5cfd3ea"
      },
      "execution_count": 220,
      "outputs": [
        {
          "output_type": "execute_result",
          "data": {
            "text/plain": [
              "tensor([[ 7,  8],\n",
              "        [ 9, 10]])"
            ]
          },
          "metadata": {},
          "execution_count": 220
        }
      ]
    },
    {
      "cell_type": "code",
      "source": [
        "MATRIX.ndim"
      ],
      "metadata": {
        "colab": {
          "base_uri": "https://localhost:8080/"
        },
        "id": "5G8K4FH3v4Zc",
        "outputId": "184c5305-f590-4d14-f274-4dc01ea6e1d7"
      },
      "execution_count": 221,
      "outputs": [
        {
          "output_type": "execute_result",
          "data": {
            "text/plain": [
              "2"
            ]
          },
          "metadata": {},
          "execution_count": 221
        }
      ]
    },
    {
      "cell_type": "code",
      "source": [
        "MATRIX[0][0]"
      ],
      "metadata": {
        "colab": {
          "base_uri": "https://localhost:8080/"
        },
        "id": "7qs30YixwEJT",
        "outputId": "1abc236b-71bd-452a-9cfc-dad27b76eaad"
      },
      "execution_count": 222,
      "outputs": [
        {
          "output_type": "execute_result",
          "data": {
            "text/plain": [
              "tensor(7)"
            ]
          },
          "metadata": {},
          "execution_count": 222
        }
      ]
    },
    {
      "cell_type": "code",
      "source": [
        "MATRIX[1]"
      ],
      "metadata": {
        "colab": {
          "base_uri": "https://localhost:8080/"
        },
        "id": "i0z32PAkwGhh",
        "outputId": "9821625b-8c7e-4d17-d604-440b08bb5fa3"
      },
      "execution_count": 223,
      "outputs": [
        {
          "output_type": "execute_result",
          "data": {
            "text/plain": [
              "tensor([ 9, 10])"
            ]
          },
          "metadata": {},
          "execution_count": 223
        }
      ]
    },
    {
      "cell_type": "code",
      "source": [
        "MATRIX.shape"
      ],
      "metadata": {
        "colab": {
          "base_uri": "https://localhost:8080/"
        },
        "id": "7Je8T814wZvb",
        "outputId": "26d865a3-42e2-439f-a002-b0e8f4eb7fc3"
      },
      "execution_count": 224,
      "outputs": [
        {
          "output_type": "execute_result",
          "data": {
            "text/plain": [
              "torch.Size([2, 2])"
            ]
          },
          "metadata": {},
          "execution_count": 224
        }
      ]
    },
    {
      "cell_type": "code",
      "source": [
        "# TENSOR\n",
        "TENSOR = torch.tensor([[[1, 2, 3],\n",
        "                        [3, 6, 9],\n",
        "                        [2, 4, 5]]])\n",
        "TENSOR"
      ],
      "metadata": {
        "colab": {
          "base_uri": "https://localhost:8080/"
        },
        "id": "iLYDjCWCxTDk",
        "outputId": "95386f83-8b52-48ee-889a-952cca40c6e6"
      },
      "execution_count": 225,
      "outputs": [
        {
          "output_type": "execute_result",
          "data": {
            "text/plain": [
              "tensor([[[1, 2, 3],\n",
              "         [3, 6, 9],\n",
              "         [2, 4, 5]]])"
            ]
          },
          "metadata": {},
          "execution_count": 225
        }
      ]
    },
    {
      "cell_type": "code",
      "source": [
        "TENSOR.ndim"
      ],
      "metadata": {
        "colab": {
          "base_uri": "https://localhost:8080/"
        },
        "id": "Rk33vASRyCrV",
        "outputId": "68e9c004-1ff1-4c74-b100-597367a94ef1"
      },
      "execution_count": 226,
      "outputs": [
        {
          "output_type": "execute_result",
          "data": {
            "text/plain": [
              "3"
            ]
          },
          "metadata": {},
          "execution_count": 226
        }
      ]
    },
    {
      "cell_type": "code",
      "source": [
        "TENSOR.shape"
      ],
      "metadata": {
        "colab": {
          "base_uri": "https://localhost:8080/"
        },
        "id": "e7tuopU6ycLv",
        "outputId": "1db64c6b-6c95-40b2-a871-0207123a8cea"
      },
      "execution_count": 227,
      "outputs": [
        {
          "output_type": "execute_result",
          "data": {
            "text/plain": [
              "torch.Size([1, 3, 3])"
            ]
          },
          "metadata": {},
          "execution_count": 227
        }
      ]
    },
    {
      "cell_type": "code",
      "source": [
        "TENSOR[0]"
      ],
      "metadata": {
        "id": "duG9CPXoFck5",
        "colab": {
          "base_uri": "https://localhost:8080/"
        },
        "outputId": "834767ff-5312-4f86-d94c-4c6422a5b2c5"
      },
      "execution_count": 228,
      "outputs": [
        {
          "output_type": "execute_result",
          "data": {
            "text/plain": [
              "tensor([[1, 2, 3],\n",
              "        [3, 6, 9],\n",
              "        [2, 4, 5]])"
            ]
          },
          "metadata": {},
          "execution_count": 228
        }
      ]
    },
    {
      "cell_type": "code",
      "source": [
        "TENSOR[0][0][2]"
      ],
      "metadata": {
        "colab": {
          "base_uri": "https://localhost:8080/"
        },
        "id": "9nqW_0_2Fy_j",
        "outputId": "1bdfc91f-0315-4970-86bf-484e486627dc"
      },
      "execution_count": 229,
      "outputs": [
        {
          "output_type": "execute_result",
          "data": {
            "text/plain": [
              "tensor(3)"
            ]
          },
          "metadata": {},
          "execution_count": 229
        }
      ]
    },
    {
      "cell_type": "markdown",
      "source": [
        "### Random Tensors\n",
        "\n",
        "Why random tensors?\n",
        "\n",
        "Random tensors are important because the way neural networks learn is that they start with tensors full of random numbers and then adjust those random numbers to better represent the data.\n",
        "\n",
        "`Start with random numbers -> look at data -> update random numbers -> look at data -> update random numbers`\n",
        "\n",
        "Torch random tensors - https://pytorch.org/docs/stable/generated/torch.rand.html#torch.rand"
      ],
      "metadata": {
        "id": "NOrFIO3dGl7k"
      }
    },
    {
      "cell_type": "code",
      "source": [
        "# Create a random tensor of size (3, 4)\n",
        "randomTensor = torch.rand(3, 4)\n",
        "randomTensor"
      ],
      "metadata": {
        "colab": {
          "base_uri": "https://localhost:8080/"
        },
        "id": "TkqIRCwgI87n",
        "outputId": "5ade53c0-de28-47c2-cae9-746a45ee770c"
      },
      "execution_count": 230,
      "outputs": [
        {
          "output_type": "execute_result",
          "data": {
            "text/plain": [
              "tensor([[0.8694, 0.5677, 0.7411, 0.4294],\n",
              "        [0.8854, 0.5739, 0.2666, 0.6274],\n",
              "        [0.2696, 0.4414, 0.2969, 0.8317]])"
            ]
          },
          "metadata": {},
          "execution_count": 230
        }
      ]
    },
    {
      "cell_type": "code",
      "source": [
        "randomTensor.ndim"
      ],
      "metadata": {
        "colab": {
          "base_uri": "https://localhost:8080/"
        },
        "id": "-g_ORQjtdnKo",
        "outputId": "759673fc-a352-45fd-c8f3-6bc34f689a94"
      },
      "execution_count": 231,
      "outputs": [
        {
          "output_type": "execute_result",
          "data": {
            "text/plain": [
              "2"
            ]
          },
          "metadata": {},
          "execution_count": 231
        }
      ]
    },
    {
      "cell_type": "code",
      "source": [
        "randomTensor.shape"
      ],
      "metadata": {
        "colab": {
          "base_uri": "https://localhost:8080/"
        },
        "id": "n-SYZ14Td1QZ",
        "outputId": "9a78e8e8-b6fb-45fd-cd4b-01564cf19374"
      },
      "execution_count": 232,
      "outputs": [
        {
          "output_type": "execute_result",
          "data": {
            "text/plain": [
              "torch.Size([3, 4])"
            ]
          },
          "metadata": {},
          "execution_count": 232
        }
      ]
    },
    {
      "cell_type": "code",
      "source": [
        "# Create a random tensor with similar shape to an image tensor\n",
        "randomImageSizeTensor = torch.rand(size=(224, 224, 3)) # height, width, color channels\n",
        "randomImageSizeTensor.ndim, randomImageSizeTensor.shape\n"
      ],
      "metadata": {
        "colab": {
          "base_uri": "https://localhost:8080/"
        },
        "id": "WQwo2vg3ekyu",
        "outputId": "e942b4fe-926a-498f-93b3-8692134ea09f"
      },
      "execution_count": 233,
      "outputs": [
        {
          "output_type": "execute_result",
          "data": {
            "text/plain": [
              "(3, torch.Size([224, 224, 3]))"
            ]
          },
          "metadata": {},
          "execution_count": 233
        }
      ]
    },
    {
      "cell_type": "code",
      "source": [
        "randomTensor2 = torch.rand(size=(10,5,12,1,5))\n",
        "randomTensor2.ndim, randomTensor2.shape"
      ],
      "metadata": {
        "colab": {
          "base_uri": "https://localhost:8080/"
        },
        "id": "MB17S_RBhfQu",
        "outputId": "3b5e4666-7bca-4f13-dff5-040866946df0"
      },
      "execution_count": 234,
      "outputs": [
        {
          "output_type": "execute_result",
          "data": {
            "text/plain": [
              "(5, torch.Size([10, 5, 12, 1, 5]))"
            ]
          },
          "metadata": {},
          "execution_count": 234
        }
      ]
    },
    {
      "cell_type": "markdown",
      "source": [
        "### Zeros and Ones"
      ],
      "metadata": {
        "id": "HPQu1Rp2iOqq"
      }
    },
    {
      "cell_type": "code",
      "source": [
        "# Create a tensor of all zeros\n",
        "zeros = torch.zeros(size=(3, 4))\n",
        "zeros"
      ],
      "metadata": {
        "colab": {
          "base_uri": "https://localhost:8080/"
        },
        "id": "KiWjuS0GiRWK",
        "outputId": "046df181-51fc-4b0f-fff9-55066952fdaa"
      },
      "execution_count": 235,
      "outputs": [
        {
          "output_type": "execute_result",
          "data": {
            "text/plain": [
              "tensor([[0., 0., 0., 0.],\n",
              "        [0., 0., 0., 0.],\n",
              "        [0., 0., 0., 0.]])"
            ]
          },
          "metadata": {},
          "execution_count": 235
        }
      ]
    },
    {
      "cell_type": "code",
      "source": [
        "# Create a tensor of all ones\n",
        "ones = torch.ones(size=(3, 4))\n",
        "ones"
      ],
      "metadata": {
        "colab": {
          "base_uri": "https://localhost:8080/"
        },
        "id": "0OlADn3kipLG",
        "outputId": "240a63c8-5476-40a2-fc5b-60e18d5a1320"
      },
      "execution_count": 236,
      "outputs": [
        {
          "output_type": "execute_result",
          "data": {
            "text/plain": [
              "tensor([[1., 1., 1., 1.],\n",
              "        [1., 1., 1., 1.],\n",
              "        [1., 1., 1., 1.]])"
            ]
          },
          "metadata": {},
          "execution_count": 236
        }
      ]
    },
    {
      "cell_type": "code",
      "source": [
        "ones.dtype"
      ],
      "metadata": {
        "colab": {
          "base_uri": "https://localhost:8080/"
        },
        "id": "Ksz1TvbYkGY5",
        "outputId": "e4581f15-852b-45e6-c439-fc5bcefa431e"
      },
      "execution_count": 237,
      "outputs": [
        {
          "output_type": "execute_result",
          "data": {
            "text/plain": [
              "torch.float32"
            ]
          },
          "metadata": {},
          "execution_count": 237
        }
      ]
    },
    {
      "cell_type": "code",
      "source": [
        "randomTensor.dtype"
      ],
      "metadata": {
        "colab": {
          "base_uri": "https://localhost:8080/"
        },
        "id": "j7LvSg66kYhy",
        "outputId": "a01e27b3-5847-4e8a-d0d5-f4fd18de18c7"
      },
      "execution_count": 238,
      "outputs": [
        {
          "output_type": "execute_result",
          "data": {
            "text/plain": [
              "torch.float32"
            ]
          },
          "metadata": {},
          "execution_count": 238
        }
      ]
    },
    {
      "cell_type": "markdown",
      "source": [
        "### Creating a range of tensors and tensors-like"
      ],
      "metadata": {
        "id": "DH2OvIyukre6"
      }
    },
    {
      "cell_type": "code",
      "source": [
        "# torch.range() is deprecated, use torch.arange() instead\n",
        "oneToTen = torch.arange(start=1, end=11, step=1)\n",
        "oneToTen, oneToTen.dtype"
      ],
      "metadata": {
        "colab": {
          "base_uri": "https://localhost:8080/"
        },
        "id": "3VGZ4axfkvQR",
        "outputId": "6f07a6ad-f693-495f-81d1-f4baf282e77c"
      },
      "execution_count": 239,
      "outputs": [
        {
          "output_type": "execute_result",
          "data": {
            "text/plain": [
              "(tensor([ 1,  2,  3,  4,  5,  6,  7,  8,  9, 10]), torch.int64)"
            ]
          },
          "metadata": {},
          "execution_count": 239
        }
      ]
    },
    {
      "cell_type": "code",
      "source": [
        "# Creating tensors like\n",
        "tenZeros = torch.zeros_like(input=oneToTen)\n",
        "tenZeros, tenZeros.dtype"
      ],
      "metadata": {
        "colab": {
          "base_uri": "https://localhost:8080/"
        },
        "id": "M9PwVdjDmVd6",
        "outputId": "f7a3234f-b31e-426f-e33c-5583b0a55f2a"
      },
      "execution_count": 240,
      "outputs": [
        {
          "output_type": "execute_result",
          "data": {
            "text/plain": [
              "(tensor([0, 0, 0, 0, 0, 0, 0, 0, 0, 0]), torch.int64)"
            ]
          },
          "metadata": {},
          "execution_count": 240
        }
      ]
    },
    {
      "cell_type": "markdown",
      "source": [
        "### Tensor datatypes\n",
        "\n",
        "**Note:** Tensor datatypes is one of the three big errors you will run into with Pytorch and deep learning:\n",
        "1. Tensors not right datatype\n",
        "2. Tensors not right shape\n",
        "3. Tensors not on the right device\n",
        "\n",
        "Precision in CS - https://en.wikipedia.org/wiki/Precision_(computer_science)"
      ],
      "metadata": {
        "id": "btzQ457GnA2s"
      }
    },
    {
      "cell_type": "code",
      "source": [
        "# Float 32 tensor\n",
        "float32Tensor = torch.tensor([3.0, 6.0, 9.0],\n",
        "                             dtype=None,          # What datatype is the tensor (e.g. float32 or float16)\n",
        "                             device='cpu',        # What device is your tensor on\n",
        "                             requires_grad=False) # whether or not to track gradients with this tensors' operations\n",
        "float32Tensor, float32Tensor.ndim, float32Tensor.shape"
      ],
      "metadata": {
        "colab": {
          "base_uri": "https://localhost:8080/"
        },
        "id": "ALCad0jInCpz",
        "outputId": "019ef69c-b114-4de4-b248-e7d797fb5ab8"
      },
      "execution_count": 241,
      "outputs": [
        {
          "output_type": "execute_result",
          "data": {
            "text/plain": [
              "(tensor([3., 6., 9.]), 1, torch.Size([3]))"
            ]
          },
          "metadata": {},
          "execution_count": 241
        }
      ]
    },
    {
      "cell_type": "code",
      "source": [
        "float32Tensor.dtype"
      ],
      "metadata": {
        "colab": {
          "base_uri": "https://localhost:8080/"
        },
        "id": "1uH61KptoPsH",
        "outputId": "9ffd7e08-0e52-44ad-b3e4-347fda342233"
      },
      "execution_count": 242,
      "outputs": [
        {
          "output_type": "execute_result",
          "data": {
            "text/plain": [
              "torch.float32"
            ]
          },
          "metadata": {},
          "execution_count": 242
        }
      ]
    },
    {
      "cell_type": "code",
      "source": [
        "float16Tensor = float32Tensor.type(torch.float16)\n",
        "float16Tensor"
      ],
      "metadata": {
        "colab": {
          "base_uri": "https://localhost:8080/"
        },
        "id": "1iZEpNMS40F7",
        "outputId": "a8b6d271-fd50-44d8-aef8-7c5b99522a59"
      },
      "execution_count": 243,
      "outputs": [
        {
          "output_type": "execute_result",
          "data": {
            "text/plain": [
              "tensor([3., 6., 9.], dtype=torch.float16)"
            ]
          },
          "metadata": {},
          "execution_count": 243
        }
      ]
    },
    {
      "cell_type": "code",
      "source": [
        "newTensor = float16Tensor * float32Tensor\n",
        "newTensor"
      ],
      "metadata": {
        "colab": {
          "base_uri": "https://localhost:8080/"
        },
        "id": "pimMLwCE6XPN",
        "outputId": "c2c29f7d-be28-4b18-c78c-6f9f094c7a16"
      },
      "execution_count": 244,
      "outputs": [
        {
          "output_type": "execute_result",
          "data": {
            "text/plain": [
              "tensor([ 9., 36., 81.])"
            ]
          },
          "metadata": {},
          "execution_count": 244
        }
      ]
    },
    {
      "cell_type": "code",
      "source": [
        "type(newTensor), newTensor.ndim, newTensor.dtype, newTensor.shape"
      ],
      "metadata": {
        "colab": {
          "base_uri": "https://localhost:8080/"
        },
        "id": "bXghtHyR6eXu",
        "outputId": "a6ecdb57-8585-446a-abe5-95907c381a90"
      },
      "execution_count": 245,
      "outputs": [
        {
          "output_type": "execute_result",
          "data": {
            "text/plain": [
              "(torch.Tensor, 1, torch.float32, torch.Size([3]))"
            ]
          },
          "metadata": {},
          "execution_count": 245
        }
      ]
    },
    {
      "cell_type": "code",
      "source": [
        "int32Tensor = torch.tensor([3, 6, 9],\n",
        "                           dtype=torch.int32)\n",
        "int32Tensor"
      ],
      "metadata": {
        "colab": {
          "base_uri": "https://localhost:8080/"
        },
        "id": "Rjq6yTix7Qp_",
        "outputId": "e2477306-e39f-4f25-c9de-2e1036fce5b1"
      },
      "execution_count": 246,
      "outputs": [
        {
          "output_type": "execute_result",
          "data": {
            "text/plain": [
              "tensor([3, 6, 9], dtype=torch.int32)"
            ]
          },
          "metadata": {},
          "execution_count": 246
        }
      ]
    },
    {
      "cell_type": "code",
      "source": [
        "newNewTensor = float32Tensor * int32Tensor\n",
        "newNewTensor"
      ],
      "metadata": {
        "colab": {
          "base_uri": "https://localhost:8080/"
        },
        "id": "FtwaYGi3JOpR",
        "outputId": "9ca18b4d-1118-4a43-ecfd-c307f5bede30"
      },
      "execution_count": 247,
      "outputs": [
        {
          "output_type": "execute_result",
          "data": {
            "text/plain": [
              "tensor([ 9., 36., 81.])"
            ]
          },
          "metadata": {},
          "execution_count": 247
        }
      ]
    },
    {
      "cell_type": "code",
      "source": [
        "newNewTensor.ndim, newNewTensor.dtype"
      ],
      "metadata": {
        "colab": {
          "base_uri": "https://localhost:8080/"
        },
        "id": "9N-Mn5i2JT3e",
        "outputId": "10839faa-9ef1-4aba-aab1-b5266ba077c7"
      },
      "execution_count": 248,
      "outputs": [
        {
          "output_type": "execute_result",
          "data": {
            "text/plain": [
              "(1, torch.float32)"
            ]
          },
          "metadata": {},
          "execution_count": 248
        }
      ]
    },
    {
      "cell_type": "markdown",
      "source": [
        "### Getting information from tensors (tensor attributes)\n",
        "1. Tensors not right datatype - to get datatype from a tensor, can use tensor.dtype\n",
        "2. Tensors not right shape - to get shape from a tensor, can use tensor.shape\n",
        "3. Tensors not on the right device - to get device from a tensor, can use tensor.device"
      ],
      "metadata": {
        "id": "CbCp0bT5KQ_f"
      }
    },
    {
      "cell_type": "code",
      "source": [
        "# Create a tensor\n",
        "someTensor = torch.rand(3, 4)\n",
        "someTensor"
      ],
      "metadata": {
        "colab": {
          "base_uri": "https://localhost:8080/"
        },
        "id": "9hfAJiPANWds",
        "outputId": "986e6d3e-8e8a-43b7-f715-e8efbef57422"
      },
      "execution_count": 249,
      "outputs": [
        {
          "output_type": "execute_result",
          "data": {
            "text/plain": [
              "tensor([[0.4218, 0.0354, 0.4598, 0.7218],\n",
              "        [0.8727, 0.8555, 0.7336, 0.6122],\n",
              "        [0.9896, 0.8666, 0.7785, 0.2229]])"
            ]
          },
          "metadata": {},
          "execution_count": 249
        }
      ]
    },
    {
      "cell_type": "code",
      "source": [
        "# Find out details about someTensor\n",
        "print(someTensor)\n",
        "print(f\"Datatype of tensor: {someTensor.dtype}\")\n",
        "print(f\"Shape of tensor: {someTensor.shape}\")\n",
        "print(f\"Device tensor is on: {someTensor.device}\")"
      ],
      "metadata": {
        "colab": {
          "base_uri": "https://localhost:8080/"
        },
        "id": "BluIbwsZNfUm",
        "outputId": "da1e8a78-eb32-41c3-c50a-ee54a3555604"
      },
      "execution_count": 250,
      "outputs": [
        {
          "output_type": "stream",
          "name": "stdout",
          "text": [
            "tensor([[0.4218, 0.0354, 0.4598, 0.7218],\n",
            "        [0.8727, 0.8555, 0.7336, 0.6122],\n",
            "        [0.9896, 0.8666, 0.7785, 0.2229]])\n",
            "Datatype of tensor: torch.float32\n",
            "Shape of tensor: torch.Size([3, 4])\n",
            "Device tensor is on: cpu\n"
          ]
        }
      ]
    },
    {
      "cell_type": "code",
      "source": [
        "test = torch.Tensor([])\n",
        "test.ndim, test.shape, test, test.dtype"
      ],
      "metadata": {
        "colab": {
          "base_uri": "https://localhost:8080/"
        },
        "id": "w4z7NVOlpssL",
        "outputId": "20c1daaa-d6fd-4452-bdae-0735428bc1ac"
      },
      "execution_count": 251,
      "outputs": [
        {
          "output_type": "execute_result",
          "data": {
            "text/plain": [
              "(1, torch.Size([0]), tensor([]), torch.float32)"
            ]
          },
          "metadata": {},
          "execution_count": 251
        }
      ]
    },
    {
      "cell_type": "code",
      "source": [
        "test2 = torch.tensor(4)\n",
        "test2.ndim, test2.shape, test2, test2.dtype"
      ],
      "metadata": {
        "colab": {
          "base_uri": "https://localhost:8080/"
        },
        "id": "kFhG03Mbp9Zr",
        "outputId": "ca486105-e3cc-42ba-c587-6ee9d4b141fc"
      },
      "execution_count": 252,
      "outputs": [
        {
          "output_type": "execute_result",
          "data": {
            "text/plain": [
              "(0, torch.Size([]), tensor(4), torch.int64)"
            ]
          },
          "metadata": {},
          "execution_count": 252
        }
      ]
    },
    {
      "cell_type": "code",
      "source": [
        "torch.get_default_dtype()"
      ],
      "metadata": {
        "colab": {
          "base_uri": "https://localhost:8080/"
        },
        "id": "X9iJSiVTJD4A",
        "outputId": "a44e15f4-8ffb-4c7b-99bf-068eeebc03fb"
      },
      "execution_count": 253,
      "outputs": [
        {
          "output_type": "execute_result",
          "data": {
            "text/plain": [
              "torch.float32"
            ]
          },
          "metadata": {},
          "execution_count": 253
        }
      ]
    },
    {
      "cell_type": "code",
      "source": [
        "myTensor = torch.tensor([3.0, 6.0, 9.0],\n",
        "                        dtype=torch.float64,\n",
        "                        device=\"cuda\")\n",
        "print(myTensor)\n",
        "print(f\"Datatype of tensor: {myTensor.dtype}\")\n",
        "print(f\"Shape of tensor: {myTensor.shape}\")\n",
        "print(f\"Device tensor is on: {myTensor.device}\")"
      ],
      "metadata": {
        "colab": {
          "base_uri": "https://localhost:8080/"
        },
        "id": "i6vrGKbOSaf7",
        "outputId": "a8141652-9288-4ebc-9905-93bc1fc356a2"
      },
      "execution_count": 254,
      "outputs": [
        {
          "output_type": "stream",
          "name": "stdout",
          "text": [
            "tensor([3., 6., 9.], device='cuda:0', dtype=torch.float64)\n",
            "Datatype of tensor: torch.float64\n",
            "Shape of tensor: torch.Size([3])\n",
            "Device tensor is on: cuda:0\n"
          ]
        }
      ]
    },
    {
      "cell_type": "markdown",
      "source": [
        "### Manipulating Tensors (tensor operations)\n",
        "\n",
        "Tensor operations include:\n",
        "* Addition\n",
        "* Subtraction\n",
        "* Multiplication (element-wise)\n",
        "* Division\n",
        "* Matrix multiplication"
      ],
      "metadata": {
        "id": "xgvVEaxH7q6m"
      }
    },
    {
      "cell_type": "code",
      "source": [
        "# Create a tensor and add ten to it\n",
        "anotherTensor = torch.tensor([1, 2, 3])\n",
        "anotherTensor.dtype\n",
        "anotherTensor + 10, anotherTensor\n"
      ],
      "metadata": {
        "id": "LKdljCDZ8PZb",
        "colab": {
          "base_uri": "https://localhost:8080/"
        },
        "outputId": "bb7b9bc4-3574-4b5f-c114-7ab13c745d90"
      },
      "execution_count": 255,
      "outputs": [
        {
          "output_type": "execute_result",
          "data": {
            "text/plain": [
              "(tensor([11, 12, 13]), tensor([1, 2, 3]))"
            ]
          },
          "metadata": {},
          "execution_count": 255
        }
      ]
    },
    {
      "cell_type": "code",
      "source": [
        "# Multiply tensor by ten\n",
        "10 * anotherTensor"
      ],
      "metadata": {
        "id": "RaKO5bdM8pwM",
        "colab": {
          "base_uri": "https://localhost:8080/"
        },
        "outputId": "19627308-d08e-4181-fea5-39bc67bca4a2"
      },
      "execution_count": 256,
      "outputs": [
        {
          "output_type": "execute_result",
          "data": {
            "text/plain": [
              "tensor([10, 20, 30])"
            ]
          },
          "metadata": {},
          "execution_count": 256
        }
      ]
    },
    {
      "cell_type": "code",
      "source": [
        "# Subtract ten from tensor\n",
        "anotherTensor - 10"
      ],
      "metadata": {
        "id": "raDbUAWb9NZ8",
        "colab": {
          "base_uri": "https://localhost:8080/"
        },
        "outputId": "f9512103-423e-4db7-c029-ae2470ebf54a"
      },
      "execution_count": 257,
      "outputs": [
        {
          "output_type": "execute_result",
          "data": {
            "text/plain": [
              "tensor([-9, -8, -7])"
            ]
          },
          "metadata": {},
          "execution_count": 257
        }
      ]
    },
    {
      "cell_type": "code",
      "source": [
        "# You can also use Pytorch built-in functions\n",
        "torch.mul(anotherTensor, 10), anotherTensor"
      ],
      "metadata": {
        "id": "QfCSq4wT9kEr",
        "colab": {
          "base_uri": "https://localhost:8080/"
        },
        "outputId": "6cfbe5b4-ddda-400d-e6ff-cdc7fcf53419"
      },
      "execution_count": 258,
      "outputs": [
        {
          "output_type": "execute_result",
          "data": {
            "text/plain": [
              "(tensor([10, 20, 30]), tensor([1, 2, 3]))"
            ]
          },
          "metadata": {},
          "execution_count": 258
        }
      ]
    },
    {
      "cell_type": "markdown",
      "source": [
        "### Matrix multiplication\n",
        "\n",
        "Two main ways of performing multiplication in neural networks and deep learning:\n",
        "\n",
        "1. Element-wise multiplication\n",
        "2. Matrix multiplication (dot product)"
      ],
      "metadata": {
        "id": "367sFvvFCJxE"
      }
    },
    {
      "cell_type": "code",
      "source": [
        "# Element-wise multiplication\n",
        "print(anotherTensor)\n",
        "print(anotherTensor, \"*\", anotherTensor)\n",
        "print(f\"Equals: {anotherTensor * anotherTensor}\")"
      ],
      "metadata": {
        "id": "lxEfBVrqwnkm",
        "colab": {
          "base_uri": "https://localhost:8080/"
        },
        "outputId": "744ff35a-974a-4634-98b2-6f2ffd4f0507"
      },
      "execution_count": 259,
      "outputs": [
        {
          "output_type": "stream",
          "name": "stdout",
          "text": [
            "tensor([1, 2, 3])\n",
            "tensor([1, 2, 3]) * tensor([1, 2, 3])\n",
            "Equals: tensor([1, 4, 9])\n"
          ]
        }
      ]
    },
    {
      "cell_type": "code",
      "source": [
        "# Matrix multiplication\n",
        "print(torch.matmul(anotherTensor, anotherTensor))\n",
        "print(anotherTensor.shape)\n"
      ],
      "metadata": {
        "id": "_4VD-GH2xXCY",
        "colab": {
          "base_uri": "https://localhost:8080/"
        },
        "outputId": "857cda62-2572-4c07-e9ba-50ef428f0273"
      },
      "execution_count": 260,
      "outputs": [
        {
          "output_type": "stream",
          "name": "stdout",
          "text": [
            "tensor(14)\n",
            "torch.Size([3])\n"
          ]
        }
      ]
    },
    {
      "cell_type": "code",
      "source": [
        "pachelbel = torch.matmul(anotherTensor, anotherTensor)\n",
        "pachelbel, pachelbel.shape, pachelbel.ndim"
      ],
      "metadata": {
        "id": "UQScKkDupxwo",
        "colab": {
          "base_uri": "https://localhost:8080/"
        },
        "outputId": "7dee4f90-f77c-42d5-f561-efc345985999"
      },
      "execution_count": 261,
      "outputs": [
        {
          "output_type": "execute_result",
          "data": {
            "text/plain": [
              "(tensor(14), torch.Size([]), 0)"
            ]
          },
          "metadata": {},
          "execution_count": 261
        }
      ]
    },
    {
      "cell_type": "code",
      "source": [
        "# Matrix multiplication by hand\n",
        "%%time\n",
        "sum = 0\n",
        "for i in range(len(anotherTensor)):\n",
        "  sum += anotherTensor[i] * anotherTensor[i]\n",
        "  print(sum)\n",
        "print(sum)"
      ],
      "metadata": {
        "id": "IJnhxlRj1KlY",
        "colab": {
          "base_uri": "https://localhost:8080/"
        },
        "outputId": "90d06541-e375-408d-f719-160222b94cfc"
      },
      "execution_count": 262,
      "outputs": [
        {
          "output_type": "stream",
          "name": "stdout",
          "text": [
            "tensor(1)\n",
            "tensor(5)\n",
            "tensor(14)\n",
            "tensor(14)\n",
            "CPU times: user 1e+03 µs, sys: 1 µs, total: 1 ms\n",
            "Wall time: 2.02 ms\n"
          ]
        }
      ]
    },
    {
      "cell_type": "code",
      "source": [
        "%%time\n",
        "torch.matmul(anotherTensor, anotherTensor)"
      ],
      "metadata": {
        "id": "3pD-58jO11N9",
        "colab": {
          "base_uri": "https://localhost:8080/"
        },
        "outputId": "740de734-f57c-4211-b490-e997360e25f7"
      },
      "execution_count": 263,
      "outputs": [
        {
          "output_type": "stream",
          "name": "stdout",
          "text": [
            "CPU times: user 40 µs, sys: 0 ns, total: 40 µs\n",
            "Wall time: 42.2 µs\n"
          ]
        },
        {
          "output_type": "execute_result",
          "data": {
            "text/plain": [
              "tensor(14)"
            ]
          },
          "metadata": {},
          "execution_count": 263
        }
      ]
    },
    {
      "cell_type": "markdown",
      "source": [
        "### Intermezzo: A first use of:\n",
        "\n",
        "`torch.nn.linear()`\n",
        "\n",
        "The torch.nn.Linear() module (we'll see this in action later on), also known as a feed-forward layer or fully connected layer, implements a matrix multiplication between an input x and a weights matrix A.\n",
        "\n",
        "`y = x ⋅ AT + b`\n",
        "\n",
        "Where:\\\n",
        "`x` is the input to the layer\\\n",
        "`A` is the weights matrix created by the layer, this starts out as random numbers that get adjusted as a neural network learns to better represent patterns in the data (the weight matrix gets transposed)\n",
        "`b` is the bias term, used to slightly offset the weights and inputs\\\n",
        "`y` is the output\n"
      ],
      "metadata": {
        "id": "VMStvFfPJNhz"
      }
    },
    {
      "cell_type": "code",
      "source": [
        "# Let's play aroudn with a linear layer\n",
        "# Since the linear layer starts with a random weights matrix, let's make it reproducible (more on this later)\n",
        "torch.manual_seed(42)\n",
        "# This uses matrix multiplication\n",
        "linear = torch.nn.Linear(in_features=3, # in_features = matches inner dimension of input\n",
        "                         out_features=6)  #out_features = describes outer value\n",
        "x = torch.tensor([[1, 2],\n",
        "                  [3, 4],\n",
        "                  [5, 6]], dtype=torch.float32)\n",
        "output = linear(x.T)\n",
        "print(f\"Input shape {x.T.shape}\\n\")\n",
        "print(f\"Output:\\n {output}\\n Output shape: {output.shape}\")"
      ],
      "metadata": {
        "id": "cmhObEOHSeBh",
        "colab": {
          "base_uri": "https://localhost:8080/"
        },
        "outputId": "4aad3c00-527b-4a37-ae1d-c72b2315e847"
      },
      "execution_count": 264,
      "outputs": [
        {
          "output_type": "stream",
          "name": "stdout",
          "text": [
            "Input shape torch.Size([2, 3])\n",
            "\n",
            "Output:\n",
            " tensor([[0.9332, 0.8805, 3.0149, 1.5545, 1.8186, 2.0634],\n",
            "        [1.7186, 1.4009, 3.5818, 1.7408, 2.6017, 2.5123]],\n",
            "       grad_fn=<AddmmBackward0>)\n",
            " Output shape: torch.Size([2, 6])\n"
          ]
        }
      ]
    },
    {
      "cell_type": "markdown",
      "source": [
        "### Finding the min, max, mean, sum, etc (tensor aggregation)"
      ],
      "metadata": {
        "id": "ylhwAfUYa_2S"
      }
    },
    {
      "cell_type": "code",
      "source": [
        "# Create a tensor\n",
        "x = torch.arange(0, 100, 10)\n",
        "x, x.ndim, x.shape"
      ],
      "metadata": {
        "id": "vHqVXcorbQe7",
        "colab": {
          "base_uri": "https://localhost:8080/"
        },
        "outputId": "c7424d53-5901-4e93-fd50-31b6036ad008"
      },
      "execution_count": 265,
      "outputs": [
        {
          "output_type": "execute_result",
          "data": {
            "text/plain": [
              "(tensor([ 0, 10, 20, 30, 40, 50, 60, 70, 80, 90]), 1, torch.Size([10]))"
            ]
          },
          "metadata": {},
          "execution_count": 265
        }
      ]
    },
    {
      "cell_type": "code",
      "source": [
        "#Find the min\n",
        "torch.min(x), x.min(), x.min().ndim, x.min().shape"
      ],
      "metadata": {
        "id": "be2JOgIubzPI",
        "colab": {
          "base_uri": "https://localhost:8080/"
        },
        "outputId": "fce333ae-5324-40b4-c7e0-d8d2d4ebe525"
      },
      "execution_count": 266,
      "outputs": [
        {
          "output_type": "execute_result",
          "data": {
            "text/plain": [
              "(tensor(0), tensor(0), 0, torch.Size([]))"
            ]
          },
          "metadata": {},
          "execution_count": 266
        }
      ]
    },
    {
      "cell_type": "code",
      "source": [
        "#Find the max\n",
        "torch.max(x), x.max()"
      ],
      "metadata": {
        "id": "hkMLbo-Kb9_O",
        "colab": {
          "base_uri": "https://localhost:8080/"
        },
        "outputId": "6a4c0cb5-2d85-4739-b5b4-fb53a9ea43ad"
      },
      "execution_count": 267,
      "outputs": [
        {
          "output_type": "execute_result",
          "data": {
            "text/plain": [
              "(tensor(90), tensor(90))"
            ]
          },
          "metadata": {},
          "execution_count": 267
        }
      ]
    },
    {
      "cell_type": "code",
      "source": [
        "#Find the mean\n",
        "torch.mean(x.type(torch.float32)), x.type(torch.float64).mean()"
      ],
      "metadata": {
        "id": "cZ9-RuBAcORI",
        "colab": {
          "base_uri": "https://localhost:8080/"
        },
        "outputId": "d646ea94-3738-4e85-ac6b-7a83adc70434"
      },
      "execution_count": 268,
      "outputs": [
        {
          "output_type": "execute_result",
          "data": {
            "text/plain": [
              "(tensor(45.), tensor(45., dtype=torch.float64))"
            ]
          },
          "metadata": {},
          "execution_count": 268
        }
      ]
    },
    {
      "cell_type": "code",
      "source": [
        "#Find the sum\n",
        "torch.sum(x), x.sum()"
      ],
      "metadata": {
        "id": "hsvEV9G7fA7W",
        "colab": {
          "base_uri": "https://localhost:8080/"
        },
        "outputId": "14442576-7da5-4863-87e4-f83086879789"
      },
      "execution_count": 269,
      "outputs": [
        {
          "output_type": "execute_result",
          "data": {
            "text/plain": [
              "(tensor(450), tensor(450))"
            ]
          },
          "metadata": {},
          "execution_count": 269
        }
      ]
    },
    {
      "cell_type": "markdown",
      "source": [
        "### Finding the positional min and max"
      ],
      "metadata": {
        "id": "INtiBtwyjJil"
      }
    },
    {
      "cell_type": "code",
      "source": [
        "# Find the position in tensor that has the min value and the position that has the max value\n",
        "x.argmin(), x.argmax()"
      ],
      "metadata": {
        "id": "Bxx4q7o8jMSh",
        "colab": {
          "base_uri": "https://localhost:8080/"
        },
        "outputId": "c56e16ce-0e98-41f0-a777-f135618fd49a"
      },
      "execution_count": 270,
      "outputs": [
        {
          "output_type": "execute_result",
          "data": {
            "text/plain": [
              "(tensor(0), tensor(9))"
            ]
          },
          "metadata": {},
          "execution_count": 270
        }
      ]
    },
    {
      "cell_type": "code",
      "source": [
        "x[9]"
      ],
      "metadata": {
        "id": "P8wFIEa7j-ef",
        "colab": {
          "base_uri": "https://localhost:8080/"
        },
        "outputId": "0c1cf25c-3d55-481e-e50a-e39e1b3c6962"
      },
      "execution_count": 271,
      "outputs": [
        {
          "output_type": "execute_result",
          "data": {
            "text/plain": [
              "tensor(90)"
            ]
          },
          "metadata": {},
          "execution_count": 271
        }
      ]
    },
    {
      "cell_type": "markdown",
      "source": [
        "### Reshaping, stacking, squeezing and unsqueezing tensors\n",
        "\n",
        "* Reshaping - reshapes an input tensor to a defined shape\n",
        "* View - return a view of an input tensor of certain shape, but keep the same memory as the orginal tensor\n",
        "* Stacking - combine multiple tensors on top of each other (vstack) or side by side (hstack)\n",
        "* Squeeze - removes all `1` dimensions from a tensor\n",
        "* Unsqueeze - adds a `1` dimension to a target tensor\n",
        "* Permute - return a view of the input with dimensions permuted (swapped) in a certain way"
      ],
      "metadata": {
        "id": "sjtVxqG9z7Rm"
      }
    },
    {
      "cell_type": "code",
      "source": [
        "# Let's create a tensor\n",
        "y = torch.arange(1., 10.)\n",
        "y, y.ndim, y.shape, y.dtype"
      ],
      "metadata": {
        "id": "-jAUcrCr1ZrH",
        "colab": {
          "base_uri": "https://localhost:8080/"
        },
        "outputId": "bef536f7-e8b5-4204-f38f-738925f56258"
      },
      "execution_count": 272,
      "outputs": [
        {
          "output_type": "execute_result",
          "data": {
            "text/plain": [
              "(tensor([1., 2., 3., 4., 5., 6., 7., 8., 9.]),\n",
              " 1,\n",
              " torch.Size([9]),\n",
              " torch.float32)"
            ]
          },
          "metadata": {},
          "execution_count": 272
        }
      ]
    },
    {
      "cell_type": "code",
      "source": [
        "# Add an extra dimension\n",
        "y_reshaped = y.reshape(1, 9)\n",
        "y_reshaped, y_reshaped.ndim, y_reshaped.shape\n"
      ],
      "metadata": {
        "id": "KNx_02nR2jXt",
        "colab": {
          "base_uri": "https://localhost:8080/"
        },
        "outputId": "2d8a9caa-cab0-44da-a868-6d4a8803246d"
      },
      "execution_count": 273,
      "outputs": [
        {
          "output_type": "execute_result",
          "data": {
            "text/plain": [
              "(tensor([[1., 2., 3., 4., 5., 6., 7., 8., 9.]]), 2, torch.Size([1, 9]))"
            ]
          },
          "metadata": {},
          "execution_count": 273
        }
      ]
    },
    {
      "cell_type": "code",
      "source": [
        "# Change the view\n",
        "z = y.view(1, 9)\n",
        "z, z.shape"
      ],
      "metadata": {
        "id": "Cex6KwhX37Xs",
        "colab": {
          "base_uri": "https://localhost:8080/"
        },
        "outputId": "83eca126-f9ac-4467-d043-317434fdcc19"
      },
      "execution_count": 274,
      "outputs": [
        {
          "output_type": "execute_result",
          "data": {
            "text/plain": [
              "(tensor([[1., 2., 3., 4., 5., 6., 7., 8., 9.]]), torch.Size([1, 9]))"
            ]
          },
          "metadata": {},
          "execution_count": 274
        }
      ]
    },
    {
      "cell_type": "code",
      "source": [
        "# Changing z also changes y (because a view of a tensor shares the same memory as the original input)\n",
        "z[:,0] = 5\n",
        "z, y"
      ],
      "metadata": {
        "id": "yle5gSVJ6I_p",
        "colab": {
          "base_uri": "https://localhost:8080/"
        },
        "outputId": "97cd4872-ce0d-4cd3-a09c-a979989d1571"
      },
      "execution_count": 275,
      "outputs": [
        {
          "output_type": "execute_result",
          "data": {
            "text/plain": [
              "(tensor([[5., 2., 3., 4., 5., 6., 7., 8., 9.]]),\n",
              " tensor([5., 2., 3., 4., 5., 6., 7., 8., 9.]))"
            ]
          },
          "metadata": {},
          "execution_count": 275
        }
      ]
    },
    {
      "cell_type": "code",
      "source": [
        "# Stack tensors on top of each other\n",
        "y_stacked = torch.stack([y, y, y, y], dim=0)\n",
        "y_stacked, y_stacked.ndim, y_stacked.shape"
      ],
      "metadata": {
        "id": "UgExMVdZ_3Cg",
        "colab": {
          "base_uri": "https://localhost:8080/"
        },
        "outputId": "ca587b4f-53f6-428c-b561-fd64bd652a1e"
      },
      "execution_count": 276,
      "outputs": [
        {
          "output_type": "execute_result",
          "data": {
            "text/plain": [
              "(tensor([[5., 2., 3., 4., 5., 6., 7., 8., 9.],\n",
              "         [5., 2., 3., 4., 5., 6., 7., 8., 9.],\n",
              "         [5., 2., 3., 4., 5., 6., 7., 8., 9.],\n",
              "         [5., 2., 3., 4., 5., 6., 7., 8., 9.]]),\n",
              " 2,\n",
              " torch.Size([4, 9]))"
            ]
          },
          "metadata": {},
          "execution_count": 276
        }
      ]
    },
    {
      "cell_type": "code",
      "source": [
        "# Squeeze with torch.squeeze() - removes all single dimensions from a target tensor\n",
        "y_squeezed = torch.squeeze(y_reshaped)\n",
        "y_squeezed, y_squeezed.shape, y_reshaped, y_reshaped.shape, y, y.shape"
      ],
      "metadata": {
        "id": "hvgKCBpuB3zq",
        "colab": {
          "base_uri": "https://localhost:8080/"
        },
        "outputId": "63a3acd2-bf72-47f2-ca79-38ed7cf21f60"
      },
      "execution_count": 277,
      "outputs": [
        {
          "output_type": "execute_result",
          "data": {
            "text/plain": [
              "(tensor([5., 2., 3., 4., 5., 6., 7., 8., 9.]),\n",
              " torch.Size([9]),\n",
              " tensor([[5., 2., 3., 4., 5., 6., 7., 8., 9.]]),\n",
              " torch.Size([1, 9]),\n",
              " tensor([5., 2., 3., 4., 5., 6., 7., 8., 9.]),\n",
              " torch.Size([9]))"
            ]
          },
          "metadata": {},
          "execution_count": 277
        }
      ]
    },
    {
      "cell_type": "code",
      "source": [
        "y_reshaped.squeeze(), y_reshaped.squeeze().shape"
      ],
      "metadata": {
        "id": "RQIyzIAwhzG7",
        "colab": {
          "base_uri": "https://localhost:8080/"
        },
        "outputId": "b65bc356-d5cc-44db-98ae-22ac6664fde7"
      },
      "execution_count": 278,
      "outputs": [
        {
          "output_type": "execute_result",
          "data": {
            "text/plain": [
              "(tensor([5., 2., 3., 4., 5., 6., 7., 8., 9.]), torch.Size([9]))"
            ]
          },
          "metadata": {},
          "execution_count": 278
        }
      ]
    },
    {
      "cell_type": "code",
      "source": [
        "# Let's check if squeeze also gives a view (it does)\n",
        "y_squeezed[8] = 65\n",
        "y_squeezed, y_squeezed.shape, y_reshaped, y_reshaped.shape, y, y.shape"
      ],
      "metadata": {
        "colab": {
          "base_uri": "https://localhost:8080/"
        },
        "id": "vxmAuOt5ujEw",
        "outputId": "d7258ba2-14d4-4f71-a596-6d11fb2f22f6"
      },
      "execution_count": 279,
      "outputs": [
        {
          "output_type": "execute_result",
          "data": {
            "text/plain": [
              "(tensor([ 5.,  2.,  3.,  4.,  5.,  6.,  7.,  8., 65.]),\n",
              " torch.Size([9]),\n",
              " tensor([[ 5.,  2.,  3.,  4.,  5.,  6.,  7.,  8., 65.]]),\n",
              " torch.Size([1, 9]),\n",
              " tensor([ 5.,  2.,  3.,  4.,  5.,  6.,  7.,  8., 65.]),\n",
              " torch.Size([9]))"
            ]
          },
          "metadata": {},
          "execution_count": 279
        }
      ]
    },
    {
      "cell_type": "code",
      "source": [
        "# Unsqueeze with torch.unsqueeze() - adds a single dimension to a target tensor at a specific dim (dimension\n",
        "print(f\"Previous target: {y_squeezed}\")\n",
        "print(f\"Previous shape: {y_squeezed.shape}\")\n",
        "\n",
        "\n",
        "# Add an extra dimension with unsqueeze\n",
        "y_unsqueezed = y_squeezed.unsqueeze(dim=0)\n",
        "print(f\"New tensor: {y_unsqueezed}\")\n",
        "print(f\"New shape: {y_unsqueezed.shape}\")"
      ],
      "metadata": {
        "id": "a0RKB8f2jUR-",
        "colab": {
          "base_uri": "https://localhost:8080/"
        },
        "outputId": "77eeb5f1-1051-4abd-9753-0ad72d95cb7a"
      },
      "execution_count": 280,
      "outputs": [
        {
          "output_type": "stream",
          "name": "stdout",
          "text": [
            "Previous target: tensor([ 5.,  2.,  3.,  4.,  5.,  6.,  7.,  8., 65.])\n",
            "Previous shape: torch.Size([9])\n",
            "New tensor: tensor([[ 5.,  2.,  3.,  4.,  5.,  6.,  7.,  8., 65.]])\n",
            "New shape: torch.Size([1, 9])\n"
          ]
        }
      ]
    },
    {
      "cell_type": "code",
      "source": [
        "# torch.permute - rearranges the dimensions of a target tensor in a specified order\n",
        "x_original = torch.rand(size=(2,3))\n",
        "x_original"
      ],
      "metadata": {
        "id": "ZqLnZwomlYIS",
        "colab": {
          "base_uri": "https://localhost:8080/"
        },
        "outputId": "52e4fbb7-0e1a-4744-c24d-cabfca84c1bf"
      },
      "execution_count": 281,
      "outputs": [
        {
          "output_type": "execute_result",
          "data": {
            "text/plain": [
              "tensor([[0.1053, 0.2695, 0.3588],\n",
              "        [0.1994, 0.5472, 0.0062]])"
            ]
          },
          "metadata": {},
          "execution_count": 281
        }
      ]
    },
    {
      "cell_type": "code",
      "source": [
        "x_random = torch.rand(size=(224, 224, 3)) # [height, width, color_channels]\n",
        "x_random.shape\n"
      ],
      "metadata": {
        "id": "BFHiNCzU1M-R",
        "colab": {
          "base_uri": "https://localhost:8080/"
        },
        "outputId": "4014e6a7-6c5f-4970-ec05-8628dd584bf3"
      },
      "execution_count": 282,
      "outputs": [
        {
          "output_type": "execute_result",
          "data": {
            "text/plain": [
              "torch.Size([224, 224, 3])"
            ]
          },
          "metadata": {},
          "execution_count": 282
        }
      ]
    },
    {
      "cell_type": "code",
      "source": [
        "# Permute the original tensor to rearrange the axis (or dim) order\n",
        "x_permuted = x_random.permute(2, 0, 1)\n",
        "x_permuted.shape"
      ],
      "metadata": {
        "id": "oO7Oukcr2n7J",
        "colab": {
          "base_uri": "https://localhost:8080/"
        },
        "outputId": "980d81d8-f28b-49bd-aa77-8df8a81c8833"
      },
      "execution_count": 283,
      "outputs": [
        {
          "output_type": "execute_result",
          "data": {
            "text/plain": [
              "torch.Size([3, 224, 224])"
            ]
          },
          "metadata": {},
          "execution_count": 283
        }
      ]
    },
    {
      "cell_type": "code",
      "source": [
        "# Permute returns a view of the original tensor and a view shares the same memory as the original tensor\n",
        "x_original_permuted = x_original.permute(1, 0)\n",
        "x_original_permuted[2,1] = 777.777\n",
        "x_original_permuted, x_original\n",
        "\n"
      ],
      "metadata": {
        "id": "kPs-f_tV3AUf",
        "colab": {
          "base_uri": "https://localhost:8080/"
        },
        "outputId": "808eb367-29e1-4fd1-f086-6e148a05b63d"
      },
      "execution_count": 284,
      "outputs": [
        {
          "output_type": "execute_result",
          "data": {
            "text/plain": [
              "(tensor([[1.0531e-01, 1.9936e-01],\n",
              "         [2.6949e-01, 5.4719e-01],\n",
              "         [3.5881e-01, 7.7778e+02]]),\n",
              " tensor([[1.0531e-01, 2.6949e-01, 3.5881e-01],\n",
              "         [1.9936e-01, 5.4719e-01, 7.7778e+02]]))"
            ]
          },
          "metadata": {},
          "execution_count": 284
        }
      ]
    },
    {
      "cell_type": "markdown",
      "source": [
        "### Indexing (selecting data from tensors)\n",
        "Indexing with PyTorch is similar to indexing with NumPy"
      ],
      "metadata": {
        "id": "uiQjKHpL5Lwe"
      }
    },
    {
      "cell_type": "code",
      "source": [
        "# Create a tensor\n",
        "gamma = torch.arange(1, 10)\n",
        "gamma = gamma.reshape(1, 3, 3)\n",
        "gamma, gamma.shape"
      ],
      "metadata": {
        "id": "lU_8usgi5Z1w",
        "colab": {
          "base_uri": "https://localhost:8080/"
        },
        "outputId": "d41a7250-aee9-44e2-8bb1-f5cfc15cfb6f"
      },
      "execution_count": 285,
      "outputs": [
        {
          "output_type": "execute_result",
          "data": {
            "text/plain": [
              "(tensor([[[1, 2, 3],\n",
              "          [4, 5, 6],\n",
              "          [7, 8, 9]]]),\n",
              " torch.Size([1, 3, 3]))"
            ]
          },
          "metadata": {},
          "execution_count": 285
        }
      ]
    },
    {
      "cell_type": "code",
      "source": [
        "# Let's index on our new tensor\n",
        "gamma[0,0,0], gamma[0, 2]"
      ],
      "metadata": {
        "id": "gxGU61PN6RJw",
        "colab": {
          "base_uri": "https://localhost:8080/"
        },
        "outputId": "350580ec-c4aa-4f48-abea-00a80cde5376"
      },
      "execution_count": 286,
      "outputs": [
        {
          "output_type": "execute_result",
          "data": {
            "text/plain": [
              "(tensor(1), tensor([7, 8, 9]))"
            ]
          },
          "metadata": {},
          "execution_count": 286
        }
      ]
    },
    {
      "cell_type": "code",
      "source": [
        "gamma[0,1,1]"
      ],
      "metadata": {
        "id": "2Tp5thfZJLle",
        "colab": {
          "base_uri": "https://localhost:8080/"
        },
        "outputId": "54be3b0c-f291-487c-cb51-6dfdc362efbf"
      },
      "execution_count": 287,
      "outputs": [
        {
          "output_type": "execute_result",
          "data": {
            "text/plain": [
              "tensor(5)"
            ]
          },
          "metadata": {},
          "execution_count": 287
        }
      ]
    },
    {
      "cell_type": "code",
      "source": [
        "# Get number 9\n",
        "gamma[0,2,2]"
      ],
      "metadata": {
        "id": "qgUhcdYfIknT",
        "colab": {
          "base_uri": "https://localhost:8080/"
        },
        "outputId": "791eaad4-fe97-42b0-c0fe-27ae40f5ec69"
      },
      "execution_count": 288,
      "outputs": [
        {
          "output_type": "execute_result",
          "data": {
            "text/plain": [
              "tensor(9)"
            ]
          },
          "metadata": {},
          "execution_count": 288
        }
      ]
    },
    {
      "cell_type": "code",
      "source": [
        "# You can also use \":\" to select \"all\" of a target dimension\n",
        "gamma[:, 0]"
      ],
      "metadata": {
        "id": "pDMANrv_Jgyv",
        "colab": {
          "base_uri": "https://localhost:8080/"
        },
        "outputId": "26b67d4d-4da5-4779-d552-84eb9474d4ff"
      },
      "execution_count": 289,
      "outputs": [
        {
          "output_type": "execute_result",
          "data": {
            "text/plain": [
              "tensor([[1, 2, 3]])"
            ]
          },
          "metadata": {},
          "execution_count": 289
        }
      ]
    },
    {
      "cell_type": "code",
      "source": [
        "gamma[:, :, 0], gamma[:, :, 0].shape"
      ],
      "metadata": {
        "id": "DHVB50FmZwVD",
        "colab": {
          "base_uri": "https://localhost:8080/"
        },
        "outputId": "9c8c80e1-7cf0-4bb8-c544-1eafa93b88fd"
      },
      "execution_count": 290,
      "outputs": [
        {
          "output_type": "execute_result",
          "data": {
            "text/plain": [
              "(tensor([[1, 4, 7]]), torch.Size([1, 3]))"
            ]
          },
          "metadata": {},
          "execution_count": 290
        }
      ]
    },
    {
      "cell_type": "code",
      "source": [
        "# Get all values of 0th and 1st dimensions, but only index 1 of 2nd dimension\n",
        "gamma[:, :, 1]"
      ],
      "metadata": {
        "id": "PLlJ1j-VaC8p",
        "colab": {
          "base_uri": "https://localhost:8080/"
        },
        "outputId": "40cedae5-01f2-4f06-b746-9360e2534438"
      },
      "execution_count": 291,
      "outputs": [
        {
          "output_type": "execute_result",
          "data": {
            "text/plain": [
              "tensor([[2, 5, 8]])"
            ]
          },
          "metadata": {},
          "execution_count": 291
        }
      ]
    },
    {
      "cell_type": "code",
      "source": [
        "# Get all values of the 0th dimension, but only the 1 index value of the 1st and 2nd dimensions\n",
        "gamma[:, 1, 1]"
      ],
      "metadata": {
        "id": "0BnILNoQaerF",
        "colab": {
          "base_uri": "https://localhost:8080/"
        },
        "outputId": "e741fa77-59b0-4df7-c6ae-5941ce1fad4c"
      },
      "execution_count": 292,
      "outputs": [
        {
          "output_type": "execute_result",
          "data": {
            "text/plain": [
              "tensor([5])"
            ]
          },
          "metadata": {},
          "execution_count": 292
        }
      ]
    },
    {
      "cell_type": "code",
      "source": [
        "# Get index 0 of 0th and 1st dimension and all values of 2nd dimension\n",
        "gamma[0, 0, :]"
      ],
      "metadata": {
        "id": "LU1iI5VwbNRz",
        "colab": {
          "base_uri": "https://localhost:8080/"
        },
        "outputId": "af77802a-b3aa-44d9-ea0a-b56386477798"
      },
      "execution_count": 293,
      "outputs": [
        {
          "output_type": "execute_result",
          "data": {
            "text/plain": [
              "tensor([1, 2, 3])"
            ]
          },
          "metadata": {},
          "execution_count": 293
        }
      ]
    },
    {
      "cell_type": "code",
      "source": [
        "# Index to return 9\n",
        "gamma[0, 2, 2], gamma[0][2][2]\n",
        "# Index to return 3, 6, 9\n",
        "gamma[0, :, 2]"
      ],
      "metadata": {
        "id": "Q_OXaegscl0k",
        "colab": {
          "base_uri": "https://localhost:8080/"
        },
        "outputId": "59364043-652f-46c0-f9eb-2d69ec3b9838"
      },
      "execution_count": 294,
      "outputs": [
        {
          "output_type": "execute_result",
          "data": {
            "text/plain": [
              "tensor([3, 6, 9])"
            ]
          },
          "metadata": {},
          "execution_count": 294
        }
      ]
    },
    {
      "cell_type": "markdown",
      "source": [
        "### PyTorch tensors & NumPy\n",
        "NumPy is a popular scientific Python numerical computing library.\\\n",
        "And because of this, PyTorch has functionality to interact with it.\n",
        "- Data in NumPy, want in PyTorch tensor -> `torch.from_numpy(ndarray)`\n",
        "- PyTorch tensor -> NumPy -> `torch.Tensor.numpy()`\n"
      ],
      "metadata": {
        "id": "alZpRnYDdgKM"
      }
    },
    {
      "cell_type": "code",
      "source": [
        "# NumPy array to tensor\n",
        "array = np.arange(1.0, 8.0)\n",
        "array, type(array), array.shape, array.dtype\n",
        "my_tensor = torch.from_numpy(array)\n",
        "my_tensor, array, array.dtype"
      ],
      "metadata": {
        "id": "_g_NOVFCfUxU",
        "colab": {
          "base_uri": "https://localhost:8080/"
        },
        "outputId": "2ccacc47-0c2a-4ea3-ad21-19fa8992f915"
      },
      "execution_count": 295,
      "outputs": [
        {
          "output_type": "execute_result",
          "data": {
            "text/plain": [
              "(tensor([1., 2., 3., 4., 5., 6., 7.], dtype=torch.float64),\n",
              " array([1., 2., 3., 4., 5., 6., 7.]),\n",
              " dtype('float64'))"
            ]
          },
          "metadata": {},
          "execution_count": 295
        }
      ]
    },
    {
      "cell_type": "code",
      "source": [
        "# If we want the default data type that PyTorch uses\n",
        "my_tensor_02 = torch.from_numpy(array).type(torch.float32)\n",
        "my_tensor_02, my_tensor_02.dtype"
      ],
      "metadata": {
        "id": "fSpmj3-C1PeP",
        "colab": {
          "base_uri": "https://localhost:8080/"
        },
        "outputId": "c1055138-aab8-4429-c8e3-d41ea5407636"
      },
      "execution_count": 296,
      "outputs": [
        {
          "output_type": "execute_result",
          "data": {
            "text/plain": [
              "(tensor([1., 2., 3., 4., 5., 6., 7.]), torch.float32)"
            ]
          },
          "metadata": {},
          "execution_count": 296
        }
      ]
    },
    {
      "cell_type": "code",
      "source": [
        "# Change the value of the numpy array. What will this do to the tensor?\n",
        "array = array + 1\n",
        "array, my_tensor"
      ],
      "metadata": {
        "id": "-cghYtdc9hYB",
        "colab": {
          "base_uri": "https://localhost:8080/"
        },
        "outputId": "e766ba2a-ecce-4079-d8e1-256a5c70b598"
      },
      "execution_count": 297,
      "outputs": [
        {
          "output_type": "execute_result",
          "data": {
            "text/plain": [
              "(array([2., 3., 4., 5., 6., 7., 8.]),\n",
              " tensor([1., 2., 3., 4., 5., 6., 7.], dtype=torch.float64))"
            ]
          },
          "metadata": {},
          "execution_count": 297
        }
      ]
    },
    {
      "cell_type": "code",
      "source": [
        "# Tensor to numpy array\n",
        "tensor_abc = torch.ones(4, 2)\n",
        "tensor_abc, tensor_abc.shape, tensor_abc.ndim\n",
        "numpy_tensor = tensor_abc.numpy()\n",
        "tensor_abc, numpy_tensor, type(numpy_tensor)"
      ],
      "metadata": {
        "id": "XwfN6w1B9-lf",
        "colab": {
          "base_uri": "https://localhost:8080/"
        },
        "outputId": "670f3ae1-eac7-46ad-8fe9-0ec2a9af69c6"
      },
      "execution_count": 298,
      "outputs": [
        {
          "output_type": "execute_result",
          "data": {
            "text/plain": [
              "(tensor([[1., 1.],\n",
              "         [1., 1.],\n",
              "         [1., 1.],\n",
              "         [1., 1.]]),\n",
              " array([[1., 1.],\n",
              "        [1., 1.],\n",
              "        [1., 1.],\n",
              "        [1., 1.]], dtype=float32),\n",
              " numpy.ndarray)"
            ]
          },
          "metadata": {},
          "execution_count": 298
        }
      ]
    },
    {
      "cell_type": "code",
      "source": [
        "# Change the tensor, what happens to the \"numpy_tensor\"?\n",
        "tensor_abc = tensor_abc + 1\n",
        "tensor_abc, numpy_tensor"
      ],
      "metadata": {
        "id": "6WmLLA6n_wtI",
        "colab": {
          "base_uri": "https://localhost:8080/"
        },
        "outputId": "f760ae85-ee43-41bf-f568-21990ff00def"
      },
      "execution_count": 299,
      "outputs": [
        {
          "output_type": "execute_result",
          "data": {
            "text/plain": [
              "(tensor([[2., 2.],\n",
              "         [2., 2.],\n",
              "         [2., 2.],\n",
              "         [2., 2.]]),\n",
              " array([[1., 1.],\n",
              "        [1., 1.],\n",
              "        [1., 1.],\n",
              "        [1., 1.]], dtype=float32))"
            ]
          },
          "metadata": {},
          "execution_count": 299
        }
      ]
    },
    {
      "cell_type": "markdown",
      "source": [
        "### Reproducibility (tring to take random out of random)\n",
        "In short, how a neural network learn:\\\n",
        "`start with random numbers -> tensor operations -> update random numbers to try and make them better representations of the data -> again -> again -> again...`\n",
        "\n",
        "To reduce the randomness in neural networks and PyTorch comes the concept of a **random seed**.\n",
        "\n",
        "Essentially what the random seed does is \"flavour\" the randomness."
      ],
      "metadata": {
        "id": "nhUZ0hrXDfUg"
      }
    },
    {
      "cell_type": "code",
      "source": [
        "torch.rand(3, 3)"
      ],
      "metadata": {
        "id": "CQrCg7MiEIWR",
        "colab": {
          "base_uri": "https://localhost:8080/"
        },
        "outputId": "5fce2c8a-8661-4eee-8924-1d0f3ad694d6"
      },
      "execution_count": 300,
      "outputs": [
        {
          "output_type": "execute_result",
          "data": {
            "text/plain": [
              "tensor([[0.9536, 0.6002, 0.0351],\n",
              "        [0.6826, 0.3743, 0.5220],\n",
              "        [0.1336, 0.9666, 0.9754]])"
            ]
          },
          "metadata": {},
          "execution_count": 300
        }
      ]
    },
    {
      "cell_type": "code",
      "source": [
        "# Create two random tensors\n",
        "random_A = torch.rand(3, 4)\n",
        "random_B = torch.rand(3, 4)\n",
        "\n",
        "print(random_A)\n",
        "print(random_B)\n",
        "print(random_A == random_B)"
      ],
      "metadata": {
        "id": "HwlExLbBFDU_",
        "colab": {
          "base_uri": "https://localhost:8080/"
        },
        "outputId": "cac9e33d-c312-4091-9e48-d6354dabab00"
      },
      "execution_count": 301,
      "outputs": [
        {
          "output_type": "stream",
          "name": "stdout",
          "text": [
            "tensor([[0.8474, 0.8988, 0.1105, 0.4563],\n",
            "        [0.9719, 0.3968, 0.1496, 0.4743],\n",
            "        [0.9973, 0.4436, 0.9726, 0.5194]])\n",
            "tensor([[0.5337, 0.7050, 0.3362, 0.7891],\n",
            "        [0.1694, 0.1800, 0.7177, 0.6988],\n",
            "        [0.5510, 0.2485, 0.8518, 0.0963]])\n",
            "tensor([[False, False, False, False],\n",
            "        [False, False, False, False],\n",
            "        [False, False, False, False]])\n"
          ]
        }
      ]
    },
    {
      "cell_type": "code",
      "source": [
        "# Let's make some random but reproducible tensors\n",
        "\n",
        "# Set the random seed\n",
        "RANDOM_SEED = 42\n",
        "torch.manual_seed(RANDOM_SEED)\n",
        "random_C = torch.rand(3, 4)\n",
        "\n",
        "torch.manual_seed(RANDOM_SEED)\n",
        "random_D = torch.rand(3, 4)\n",
        "\n",
        "print(random_C)\n",
        "print(random_D)\n",
        "print(random_C == random_D)"
      ],
      "metadata": {
        "id": "9zcfgoJ8ytbE",
        "colab": {
          "base_uri": "https://localhost:8080/"
        },
        "outputId": "c70920ea-1d3e-4efc-fcd5-c42be1ca32a0"
      },
      "execution_count": 302,
      "outputs": [
        {
          "output_type": "stream",
          "name": "stdout",
          "text": [
            "tensor([[0.8823, 0.9150, 0.3829, 0.9593],\n",
            "        [0.3904, 0.6009, 0.2566, 0.7936],\n",
            "        [0.9408, 0.1332, 0.9346, 0.5936]])\n",
            "tensor([[0.8823, 0.9150, 0.3829, 0.9593],\n",
            "        [0.3904, 0.6009, 0.2566, 0.7936],\n",
            "        [0.9408, 0.1332, 0.9346, 0.5936]])\n",
            "tensor([[True, True, True, True],\n",
            "        [True, True, True, True],\n",
            "        [True, True, True, True]])\n"
          ]
        }
      ]
    },
    {
      "cell_type": "markdown",
      "source": [
        "### Extra resources for reproducibility:\n",
        "* https://pytorch.org/docs/stable/notes/randomness.html\n",
        "* https://en.wikipedia.org/wiki/Random_seed\n",
        "* https://towardsdatascience.com/random-seeds-and-reproducibility-933da79446e3"
      ],
      "metadata": {
        "id": "pEPsNrfF1hJI"
      }
    },
    {
      "cell_type": "markdown",
      "source": [
        "### Running tensors and PyTorch objects on the GPUs (and making faster computations)\n",
        "GPUs = faster computation on numbers, thanks to CUDA + NVIDIA hardware + PyTorch working behind the scenes to make everything good"
      ],
      "metadata": {
        "id": "Nf5vRD9P3oms"
      }
    },
    {
      "cell_type": "markdown",
      "source": [
        "### 1. Getting a GPU\n",
        "\n",
        "1. Easiest - Use Google Colab for a free GPU (options to upgrade as well)\n",
        "2. Use your own GPU - takes a little bit of setup and requires the investment of purchasing a GPU, there's lots of options... See this post for more advice https://timdettmers.com/2023/01/30/which-gpu-for-deep-learning/\n",
        "3. Use cloud computing - GCP, AWS, Azure... these services allow you to rent computers on the cloud and access them\n",
        "\n",
        "For 2, 3 PyTorch + GPU drivers (CUDA) take a little bit of setting up, to do this, refer to PyTorch setup documentation: https://pytorch.org/get-started/locally/"
      ],
      "metadata": {
        "id": "2AZ-sorK6OAf"
      }
    },
    {
      "cell_type": "code",
      "source": [
        "!nvidia-smi"
      ],
      "metadata": {
        "id": "4BY9k7KXE9i5",
        "colab": {
          "base_uri": "https://localhost:8080/"
        },
        "outputId": "b92de900-c52e-46b3-a50a-b322a35b303a"
      },
      "execution_count": 303,
      "outputs": [
        {
          "output_type": "stream",
          "name": "stdout",
          "text": [
            "Sun Apr 21 22:13:54 2024       \n",
            "+---------------------------------------------------------------------------------------+\n",
            "| NVIDIA-SMI 535.104.05             Driver Version: 535.104.05   CUDA Version: 12.2     |\n",
            "|-----------------------------------------+----------------------+----------------------+\n",
            "| GPU  Name                 Persistence-M | Bus-Id        Disp.A | Volatile Uncorr. ECC |\n",
            "| Fan  Temp   Perf          Pwr:Usage/Cap |         Memory-Usage | GPU-Util  Compute M. |\n",
            "|                                         |                      |               MIG M. |\n",
            "|=========================================+======================+======================|\n",
            "|   0  Tesla T4                       Off | 00000000:00:04.0 Off |                    0 |\n",
            "| N/A   44C    P0              27W /  70W |    121MiB / 15360MiB |      0%      Default |\n",
            "|                                         |                      |                  N/A |\n",
            "+-----------------------------------------+----------------------+----------------------+\n",
            "                                                                                         \n",
            "+---------------------------------------------------------------------------------------+\n",
            "| Processes:                                                                            |\n",
            "|  GPU   GI   CI        PID   Type   Process name                            GPU Memory |\n",
            "|        ID   ID                                                             Usage      |\n",
            "|=======================================================================================|\n",
            "+---------------------------------------------------------------------------------------+\n"
          ]
        }
      ]
    },
    {
      "cell_type": "markdown",
      "source": [
        "### 2. Check for GPU access with PyTorch"
      ],
      "metadata": {
        "id": "DNevp8q8fg9O"
      }
    },
    {
      "cell_type": "code",
      "source": [
        "# Check for GPU access with PyTorch\n",
        "torch.cuda.is_available()"
      ],
      "metadata": {
        "id": "KbMBzzd1gAOj",
        "colab": {
          "base_uri": "https://localhost:8080/"
        },
        "outputId": "b37511e4-7cda-46e8-d02e-875d83eaedc4"
      },
      "execution_count": 304,
      "outputs": [
        {
          "output_type": "execute_result",
          "data": {
            "text/plain": [
              "True"
            ]
          },
          "metadata": {},
          "execution_count": 304
        }
      ]
    },
    {
      "cell_type": "markdown",
      "source": [
        "### For PyTorch, since it's capable of running compute on the GPU or CPU, it's best practice to setup device agnostic code: https://pytorch.org/docs/stable/notes/cuda.html#best-practices\n",
        "\n",
        "e.g. run on GPU if available, else run on CPU\n",
        "\n"
      ],
      "metadata": {
        "id": "E1v95rlT16yM"
      }
    },
    {
      "cell_type": "code",
      "source": [
        "# Setup device agnostic code\n",
        "device = \"cuda\" if torch.cuda.is_available() else \"cpu\"\n",
        "device"
      ],
      "metadata": {
        "id": "J9Iv9WMZgb6H",
        "colab": {
          "base_uri": "https://localhost:8080/",
          "height": 35
        },
        "outputId": "29af24d3-ac24-4b45-b303-37f54e89b273"
      },
      "execution_count": 305,
      "outputs": [
        {
          "output_type": "execute_result",
          "data": {
            "text/plain": [
              "'cuda'"
            ],
            "application/vnd.google.colaboratory.intrinsic+json": {
              "type": "string"
            }
          },
          "metadata": {},
          "execution_count": 305
        }
      ]
    },
    {
      "cell_type": "code",
      "source": [
        "# Count number of devices\n",
        "torch.cuda.device_count()"
      ],
      "metadata": {
        "colab": {
          "base_uri": "https://localhost:8080/"
        },
        "id": "xGvLXlT71TxE",
        "outputId": "26d7e623-ff91-493a-c44c-e86d7e4caf1e"
      },
      "execution_count": 306,
      "outputs": [
        {
          "output_type": "execute_result",
          "data": {
            "text/plain": [
              "1"
            ]
          },
          "metadata": {},
          "execution_count": 306
        }
      ]
    },
    {
      "cell_type": "markdown",
      "source": [
        "### 3. Putting tensors (and models) on the GPU\n",
        "The reason we want our tensors/models on the GPU is because using a GPU results in faster computations"
      ],
      "metadata": {
        "id": "TiG2esfB2ecE"
      }
    },
    {
      "cell_type": "code",
      "source": [
        "# Create a tensor (default on the CPU)\n",
        "beta = torch.tensor([1, 2, 3])\n",
        "\n",
        "# Tensor not on GPU\n",
        "print(beta, beta.device)\n"
      ],
      "metadata": {
        "colab": {
          "base_uri": "https://localhost:8080/"
        },
        "id": "Yyi8hrIl3LJX",
        "outputId": "92de2677-5799-4424-df58-c8e4128be261"
      },
      "execution_count": 307,
      "outputs": [
        {
          "output_type": "stream",
          "name": "stdout",
          "text": [
            "tensor([1, 2, 3]) cpu\n"
          ]
        }
      ]
    },
    {
      "cell_type": "code",
      "source": [
        "# Move tensor to GPU (if available)\n",
        "tensor_on_gpu = beta.to(device)\n",
        "tensor_on_gpu, tensor_on_gpu.device"
      ],
      "metadata": {
        "colab": {
          "base_uri": "https://localhost:8080/"
        },
        "id": "bwgIn7cx4gRw",
        "outputId": "2e40ecfb-36a4-40aa-f84f-efe230eac65a"
      },
      "execution_count": 308,
      "outputs": [
        {
          "output_type": "execute_result",
          "data": {
            "text/plain": [
              "(tensor([1, 2, 3], device='cuda:0'), device(type='cuda', index=0))"
            ]
          },
          "metadata": {},
          "execution_count": 308
        }
      ]
    },
    {
      "cell_type": "markdown",
      "source": [
        "### 4. Moving tensors back to the CPU"
      ],
      "metadata": {
        "id": "4AnvKS645EeF"
      }
    },
    {
      "cell_type": "code",
      "source": [
        "# If tensor is on GPU, can't transform it to NumPy\n",
        "# tensor_on_gpu.numpy() gives en error"
      ],
      "metadata": {
        "id": "-MlsNhqNDJau"
      },
      "execution_count": 309,
      "outputs": []
    },
    {
      "cell_type": "code",
      "source": [
        "# To fix the GPU tensor with NumPy issue, we can first set it to the CPU\n",
        "tensor_back_on_cpu = tensor_on_gpu.cpu()\n",
        "tensor_back_on_cpu.numpy(), tensor_back_on_cpu.numpy().dtype, type(tensor_back_on_cpu.numpy())"
      ],
      "metadata": {
        "colab": {
          "base_uri": "https://localhost:8080/"
        },
        "id": "8I8CbosoDsFW",
        "outputId": "d467d4fb-af18-43c2-d9b9-a8b91ff95778"
      },
      "execution_count": 310,
      "outputs": [
        {
          "output_type": "execute_result",
          "data": {
            "text/plain": [
              "(array([1, 2, 3]), dtype('int64'), numpy.ndarray)"
            ]
          },
          "metadata": {},
          "execution_count": 310
        }
      ]
    },
    {
      "cell_type": "code",
      "source": [
        "# Modidying the numpy array doesn't affect the tensor on gpu or cpu\n",
        "alf = tensor_back_on_cpu.numpy()\n",
        "alf = alf + 1\n",
        "alf, beta, tensor_on_gpu, tensor_back_on_cpu"
      ],
      "metadata": {
        "colab": {
          "base_uri": "https://localhost:8080/"
        },
        "id": "rv93NNIitCe8",
        "outputId": "4c7ca733-15de-4e31-adf9-48f5edfdcad4"
      },
      "execution_count": 311,
      "outputs": [
        {
          "output_type": "execute_result",
          "data": {
            "text/plain": [
              "(array([2, 3, 4]),\n",
              " tensor([1, 2, 3]),\n",
              " tensor([1, 2, 3], device='cuda:0'),\n",
              " tensor([1, 2, 3]))"
            ]
          },
          "metadata": {},
          "execution_count": 311
        }
      ]
    },
    {
      "cell_type": "code",
      "source": [
        "# Modifying the original tensor on cpu doesn't seem to change the new tensor we took back to the cpu from the gpu\n",
        "beta = beta + 1\n",
        "tensor_back_on_cpu = tensor_back_on_cpu + 10\n",
        "alf, beta, tensor_on_gpu, tensor_back_on_cpu"
      ],
      "metadata": {
        "colab": {
          "base_uri": "https://localhost:8080/"
        },
        "id": "ODEBrBGitifO",
        "outputId": "96a65e7c-8ce1-48b9-bc69-9411dde882c7"
      },
      "execution_count": 312,
      "outputs": [
        {
          "output_type": "execute_result",
          "data": {
            "text/plain": [
              "(array([2, 3, 4]),\n",
              " tensor([2, 3, 4]),\n",
              " tensor([1, 2, 3], device='cuda:0'),\n",
              " tensor([11, 12, 13]))"
            ]
          },
          "metadata": {},
          "execution_count": 312
        }
      ]
    },
    {
      "cell_type": "code",
      "source": [
        "tensor_on_gpu"
      ],
      "metadata": {
        "colab": {
          "base_uri": "https://localhost:8080/"
        },
        "id": "z7yKZugbFgpt",
        "outputId": "4cf8b7aa-1b00-4a1a-ab86-14e86d6e929f"
      },
      "execution_count": 313,
      "outputs": [
        {
          "output_type": "execute_result",
          "data": {
            "text/plain": [
              "tensor([1, 2, 3], device='cuda:0')"
            ]
          },
          "metadata": {},
          "execution_count": 313
        }
      ]
    }
  ]
}